{
  "nbformat": 4,
  "nbformat_minor": 0,
  "metadata": {
    "colab": {
      "provenance": [],
      "collapsed_sections": [
        "iOR3ttKgPRjS",
        "WqgQfhLWS6Qu"
      ],
      "toc_visible": true,
      "authorship_tag": "ABX9TyMxspave1wysgMIS/OLx5Ve",
      "include_colab_link": true
    },
    "kernelspec": {
      "name": "python3",
      "display_name": "Python 3"
    },
    "language_info": {
      "name": "python"
    }
  },
  "cells": [
    {
      "cell_type": "markdown",
      "metadata": {
        "id": "view-in-github",
        "colab_type": "text"
      },
      "source": [
        "<a href=\"https://colab.research.google.com/github/deanzedd/Machine-Learning/blob/main/Ridge_and_Lasso_reg.ipynb\" target=\"_parent\"><img src=\"https://colab.research.google.com/assets/colab-badge.svg\" alt=\"Open In Colab\"/></a>"
      ]
    },
    {
      "cell_type": "markdown",
      "source": [
        "# Ridge Regression"
      ],
      "metadata": {
        "id": "eF1G2siH6VNk"
      }
    },
    {
      "cell_type": "markdown",
      "source": [
        "Sự thay đổi của Loss func trong ridge reg"
      ],
      "metadata": {
        "id": "vwrF8lI-84VH"
      }
    },
    {
      "cell_type": "code",
      "execution_count": null,
      "metadata": {
        "id": "oEIh2dNn6Pho"
      },
      "outputs": [],
      "source": [
        "import numpy as np\n",
        "from sklearn.preprocessing import StandardScaler\n",
        "from sklearn.pipeline import Pipeline\n",
        "from sklearn.linear_model import Ridge\n",
        "from sklearn.model_selection import train_test_split, GridSearchCV\n",
        "\n",
        "from sklearn.datasets import load_diabetes\n",
        "X,y= load_diabetes(return_X_y=True)\n",
        "feature = load_diabetes()['feature_names'] #load feature(tính năng) like blood,...\n",
        "\n",
        "X_train,X_test,y_train,y_test = train_test_split(X,y,test_size=0.33,random_state=42)\n"
      ]
    },
    {
      "cell_type": "code",
      "source": [
        "import numpy as np\n",
        "import matplotlib.pyplot as plt\n",
        "from sklearn.linear_model import Ridge\n",
        "\n",
        "#thay đổi alphas từ 1--> 100\n",
        "n_alphas = 200 #regularization parameter\n",
        "alphas = np.logspace(-5, 2, n_alphas) #tạo các tham số alpha theo cấp số nhân\n",
        "#để ý đồ thị dưới khi ở bên trái hệ số ko biến đổi j nh do tác động của alpha lên L(w) ít\n",
        "coefs = []\n",
        "\n",
        "#Huấn luyện model khi alpha thay đổi\n",
        "for a in alphas:\n",
        "  ridge = Ridge(alpha=a, fit_intercept=False)\n",
        "  # default là dùng True\n",
        "  # dùng fit_intercept=False khi có CHẮC NIỀM TIN\n",
        "  # your data's underlying relationship does not include an intercept.\n",
        "  # nghĩa là dữ liệu ko bao gồm phần chặn\n",
        "  # có thể hiểu theo\n",
        "  # The model will assume that the regression line passes through the origin (X,y)= (0, 0).\n",
        "  ridge.fit(X_train, y_train)\n",
        "  coefs.append(ridge.coef_)\n",
        "\n",
        "# Hiển thị kết quả mô hình cho các hệ số alpha\n",
        "plt.figure(figsize=(12, 8))\n",
        "ax = plt.gca()\n",
        "ax.plot(alphas, coefs)\n",
        "ax.set_xscale('log')\n",
        "ax.set_xlim(ax.get_xlim())\n",
        "plt.xlabel('alpha',fontsize =16)\n",
        "plt.ylabel('coefficent of features', fontsize = 16)\n",
        "plt.legend(feature)\n",
        "plt.title('Ridge coefficients khi thay đổi hệ số alpha', fontsize=16)\n",
        "plt.axis('tight')\n",
        "plt.show"
      ],
      "metadata": {
        "colab": {
          "base_uri": "https://localhost:8080/",
          "height": 903
        },
        "id": "D-qdQ3jY_Xjd",
        "outputId": "390f4c6e-fb18-4794-c5de-6f45881ced1b"
      },
      "execution_count": null,
      "outputs": [
        {
          "output_type": "execute_result",
          "data": {
            "text/plain": [
              "<function matplotlib.pyplot.show(close=None, block=None)>"
            ],
            "text/html": [
              "<div style=\"max-width:800px; border: 1px solid var(--colab-border-color);\"><style>\n",
              "      pre.function-repr-contents {\n",
              "        overflow-x: auto;\n",
              "        padding: 8px 12px;\n",
              "        max-height: 500px;\n",
              "      }\n",
              "\n",
              "      pre.function-repr-contents.function-repr-contents-collapsed {\n",
              "        cursor: pointer;\n",
              "        max-height: 100px;\n",
              "      }\n",
              "    </style>\n",
              "    <pre style=\"white-space: initial; background:\n",
              "         var(--colab-secondary-surface-color); padding: 8px 12px;\n",
              "         border-bottom: 1px solid var(--colab-border-color);\"><b>matplotlib.pyplot.show</b><br/>def show(*args, **kwargs) -&gt; None</pre><pre class=\"function-repr-contents function-repr-contents-collapsed\" style=\"\"><a class=\"filepath\" style=\"display:none\" href=\"#\">/usr/local/lib/python3.11/dist-packages/matplotlib/pyplot.py</a>Display all open figures.\n",
              "\n",
              "Parameters\n",
              "----------\n",
              "block : bool, optional\n",
              "    Whether to wait for all figures to be closed before returning.\n",
              "\n",
              "    If `True` block and run the GUI main loop until all figure windows\n",
              "    are closed.\n",
              "\n",
              "    If `False` ensure that all figure windows are displayed and return\n",
              "    immediately.  In this case, you are responsible for ensuring\n",
              "    that the event loop is running to have responsive figures.\n",
              "\n",
              "    Defaults to True in non-interactive mode and to False in interactive\n",
              "    mode (see `.pyplot.isinteractive`).\n",
              "\n",
              "See Also\n",
              "--------\n",
              "ion : Enable interactive mode, which shows / updates the figure after\n",
              "      every plotting command, so that calling ``show()`` is not necessary.\n",
              "ioff : Disable interactive mode.\n",
              "savefig : Save the figure to an image file instead of showing it on screen.\n",
              "\n",
              "Notes\n",
              "-----\n",
              "**Saving figures to file and showing a window at the same time**\n",
              "\n",
              "If you want an image file as well as a user interface window, use\n",
              "`.pyplot.savefig` before `.pyplot.show`. At the end of (a blocking)\n",
              "``show()`` the figure is closed and thus unregistered from pyplot. Calling\n",
              "`.pyplot.savefig` afterwards would save a new and thus empty figure. This\n",
              "limitation of command order does not apply if the show is non-blocking or\n",
              "if you keep a reference to the figure and use `.Figure.savefig`.\n",
              "\n",
              "**Auto-show in jupyter notebooks**\n",
              "\n",
              "The jupyter backends (activated via ``%matplotlib inline``,\n",
              "``%matplotlib notebook``, or ``%matplotlib widget``), call ``show()`` at\n",
              "the end of every cell by default. Thus, you usually don&#x27;t have to call it\n",
              "explicitly there.</pre>\n",
              "      <script>\n",
              "      if (google.colab.kernel.accessAllowed && google.colab.files && google.colab.files.view) {\n",
              "        for (const element of document.querySelectorAll('.filepath')) {\n",
              "          element.style.display = 'block'\n",
              "          element.onclick = (event) => {\n",
              "            event.preventDefault();\n",
              "            event.stopPropagation();\n",
              "            google.colab.files.view(element.textContent, 569);\n",
              "          };\n",
              "        }\n",
              "      }\n",
              "      for (const element of document.querySelectorAll('.function-repr-contents')) {\n",
              "        element.onclick = (event) => {\n",
              "          event.preventDefault();\n",
              "          event.stopPropagation();\n",
              "          element.classList.toggle('function-repr-contents-collapsed');\n",
              "        };\n",
              "      }\n",
              "      </script>\n",
              "      </div>"
            ]
          },
          "metadata": {},
          "execution_count": 3
        },
        {
          "output_type": "display_data",
          "data": {
            "text/plain": [
              "<Figure size 1200x800 with 1 Axes>"
            ],
            "image/png": "[encoded data removed]"
          },
          "metadata": {}
        }
      ]
    },
    {
      "cell_type": "markdown",
      "source": [
        "sự thay đổi hệ số ước lượng(coeffcient of features) theo hệ số alpha. Khi alpha tăng thì ảnh hưởng của regularization term tăng -> hệ số giảm"
      ],
      "metadata": {
        "id": "NYmJcSGmJAcf"
      }
    },
    {
      "cell_type": "markdown",
      "source": [
        "*Huán luyện Ridge Regression*"
      ],
      "metadata": {
        "id": "CWJwDwHKJtQT"
      }
    },
    {
      "cell_type": "code",
      "source": [
        "import numpy as np\n",
        "from sklearn.preprocessing import StandardScaler\n",
        "from sklearn.pipeline import Pipeline\n",
        "from sklearn.linear_model import Ridge\n",
        "from sklearn.model_selection import train_test_split, GridSearchCV"
      ],
      "metadata": {
        "id": "FNmHOq_iJ5sI"
      },
      "execution_count": null,
      "outputs": []
    },
    {
      "cell_type": "code",
      "source": [
        "reg_ridge = Ridge(alpha = 1.0)\n",
        "reg_ridge.fit(X_train,y_train)\n",
        "\n",
        "#sai số huấn luyện của mô hình trên tập train\n",
        "print(reg_ridge.score(X_train,y_train))\n",
        "#hệ số hồi quy và hệ số chặn\n",
        "print(reg_ridge.coef_)\n",
        "print(reg_ridge.intercept_)"
      ],
      "metadata": {
        "id": "CRQvIV3sX17O",
        "colab": {
          "base_uri": "https://localhost:8080/"
        },
        "outputId": "27b48748-ed4d-44fb-accf-161d1a770513"
      },
      "execution_count": null,
      "outputs": [
        {
          "output_type": "stream",
          "name": "stdout",
          "text": [
            "0.4062759706618534\n",
            "[  40.22980953  -61.68895989  273.28957886  197.33039238   -1.61646667\n",
            "  -19.12539101 -142.98112377  107.37594422  195.22479197   84.33273189]\n",
            "150.9272164651888\n"
          ]
        }
      ]
    },
    {
      "cell_type": "markdown",
      "source": [
        "# Lasso regression"
      ],
      "metadata": {
        "id": "iOR3ttKgPRjS"
      }
    },
    {
      "cell_type": "markdown",
      "source": [
        "regularization term được thêm vào là alpha x L1"
      ],
      "metadata": {
        "id": "-ZA1AvlIPfm3"
      }
    },
    {
      "cell_type": "code",
      "source": [
        "from sklearn.linear_model import Lasso\n",
        "\n",
        "reg_lasso = Lasso(alpha = 1.0)\n",
        "reg_lasso.fit(X_train,y_train)\n",
        "\n",
        "#sai số huấn luyện của mô hình trên tập train\n",
        "print(reg_lasso.score(X_train,y_train))\n",
        "\n",
        "#hệ số hồi quy và hệ số bị chặn\n",
        "print(reg_lasso.coef_)\n",
        "print(reg_lasso.intercept_)"
      ],
      "metadata": {
        "colab": {
          "base_uri": "https://localhost:8080/"
        },
        "id": "7PlFeLyRPuBa",
        "outputId": "132d3f18-00f9-4aba-d8b5-ee2beffbf87e"
      },
      "execution_count": null,
      "outputs": [
        {
          "output_type": "stream",
          "name": "stdout",
          "text": [
            "0.34247491466833135\n",
            "[  0.          -0.         425.89571524  69.18564617   0.\n",
            "   0.          -0.           0.         177.77602164   0.        ]\n",
            "150.9774022110965\n"
          ]
        }
      ]
    },
    {
      "cell_type": "markdown",
      "source": [
        "nếu muốn tuning hệ số alpha, sklearn có cung cấp thư viện làm việc này"
      ],
      "metadata": {
        "id": "Y5HiCRDtQHwa"
      }
    },
    {
      "cell_type": "code",
      "source": [
        "from sklearn.linear_model import LassoCV\n",
        "from sklearn.datasets import make_regression\n",
        "# noise = 4 This parameter controls the amount of noise added to the generated data.\n",
        "X,y = make_regression(noise=4, random_state=0)\n",
        "reg_lasso_cv = LassoCV(cv=5, random_state=0).fit(X, y)\n",
        "\n",
        "print(reg_lasso_cv.coef_)\n",
        "print(reg_lasso_cv.intercept_)"
      ],
      "metadata": {
        "colab": {
          "base_uri": "https://localhost:8080/"
        },
        "id": "6xAms1WOQPhY",
        "outputId": "3b8e844c-75de-4d55-97d9-79d2fe7787f4"
      },
      "execution_count": null,
      "outputs": [
        {
          "output_type": "stream",
          "name": "stdout",
          "text": [
            "[-4.21242132e-01 -0.00000000e+00  8.74020196e+00  0.00000000e+00\n",
            " -0.00000000e+00  0.00000000e+00  5.04074761e-02  7.46065852e+00\n",
            "  0.00000000e+00  0.00000000e+00  0.00000000e+00  0.00000000e+00\n",
            " -0.00000000e+00 -1.72366886e-01  0.00000000e+00 -0.00000000e+00\n",
            " -0.00000000e+00  0.00000000e+00 -0.00000000e+00 -4.29663159e-01\n",
            "  1.43615035e-01  0.00000000e+00 -1.79948525e-01  0.00000000e+00\n",
            " -0.00000000e+00  7.30847374e+01 -3.43884703e-01  0.00000000e+00\n",
            "  0.00000000e+00  0.00000000e+00  1.13286030e-01 -0.00000000e+00\n",
            "  0.00000000e+00 -0.00000000e+00  0.00000000e+00 -0.00000000e+00\n",
            " -0.00000000e+00  0.00000000e+00  0.00000000e+00 -0.00000000e+00\n",
            " -0.00000000e+00  3.94405369e+01 -0.00000000e+00 -0.00000000e+00\n",
            "  5.23718682e+01  8.32674366e-01  4.35584487e+01 -0.00000000e+00\n",
            "  0.00000000e+00  1.55124290e-01  2.58648431e-01 -0.00000000e+00\n",
            "  0.00000000e+00  0.00000000e+00 -0.00000000e+00  0.00000000e+00\n",
            "  3.22013861e+01  0.00000000e+00 -0.00000000e+00 -0.00000000e+00\n",
            " -0.00000000e+00  1.55887672e-01  6.21088556e+01  0.00000000e+00\n",
            "  0.00000000e+00 -0.00000000e+00  0.00000000e+00  0.00000000e+00\n",
            "  0.00000000e+00 -3.97202098e-01 -0.00000000e+00 -0.00000000e+00\n",
            " -0.00000000e+00 -1.67818199e-02  0.00000000e+00 -0.00000000e+00\n",
            "  0.00000000e+00  5.24373378e-01 -0.00000000e+00  0.00000000e+00\n",
            " -0.00000000e+00  8.74408670e-02 -0.00000000e+00  0.00000000e+00\n",
            "  6.87409944e+01 -0.00000000e+00  0.00000000e+00  0.00000000e+00\n",
            "  0.00000000e+00  0.00000000e+00 -0.00000000e+00 -0.00000000e+00\n",
            " -0.00000000e+00 -0.00000000e+00  0.00000000e+00  1.14377992e-01\n",
            " -2.37058452e-01  1.28608607e+01  0.00000000e+00 -0.00000000e+00]\n",
            "0.3760675632952868\n"
          ]
        }
      ]
    },
    {
      "cell_type": "markdown",
      "source": [
        "Nhận xét thấy sẽ làm cho vecto hệ số ước lượng là 1 sparse vector(vecto thưa)"
      ],
      "metadata": {
        "id": "xQQbjTL2S55y"
      }
    },
    {
      "cell_type": "markdown",
      "source": [
        "# Elastic net"
      ],
      "metadata": {
        "id": "WqgQfhLWS6Qu"
      }
    },
    {
      "cell_type": "markdown",
      "source": [
        "elastic net = ridge + lasso"
      ],
      "metadata": {
        "id": "Fj50tXJWS-nN"
      }
    },
    {
      "cell_type": "markdown",
      "source": [
        "$\\mathcal{L}(\\mathbf{w})=\\frac{1}{N}\\|\\overline{\\mathbf{X}} \\mathbf{w}-\\mathbf{y}\\|_2^2+\\alpha\\left[\\lambda\\|\\mathbf{w}\\|_1+\\frac{(1-\\lambda)}{2}\\|\\mathbf{w}\\|_2^2\\right]$"
      ],
      "metadata": {
        "id": "FcuDw0wFAbLa"
      }
    },
    {
      "cell_type": "markdown",
      "source": [
        "α là thành phần điều chuẩn"
      ],
      "metadata": {
        "id": "wdGBU5uIDURo"
      }
    },
    {
      "cell_type": "markdown",
      "source": [
        "có thể huấn luyện dữ liệu từ thư viện sklearn cho sẵn là sklearn.linear_model.ElasticNet"
      ],
      "metadata": {
        "id": "VzkCl9aOTV6H"
      }
    },
    {
      "cell_type": "code",
      "source": [
        "from sklearn.linear_model import ElasticNet\n",
        "from sklearn.datasets import make_regression\n",
        "\n",
        "reg = ElasticNet(alpha = 1.0, l1_ratio=0.5, random_state = 0)\n",
        "reg.fit(X_train,y_train)\n",
        "\n",
        "print(reg.coef_)\n",
        "print(reg.intercept_)"
      ],
      "metadata": {
        "colab": {
          "base_uri": "https://localhost:8080/"
        },
        "id": "8L2xlj9vTePF",
        "outputId": "1e16deae-6277-4dff-8199-7c1cc2c4dde7"
      },
      "execution_count": null,
      "outputs": [
        {
          "output_type": "stream",
          "name": "stdout",
          "text": [
            "[ 0.23525947  0.          3.36451156  2.31507683  0.24049309  0.01825777\n",
            " -1.8341374   1.96160292  2.7339625   1.47473889]\n",
            "151.96891788315534\n"
          ]
        }
      ]
    },
    {
      "cell_type": "markdown",
      "source": [
        "# Tuning hệ số cho mô hình hồi quy Ridge, Lasso và Elastic Net"
      ],
      "metadata": {
        "id": "nUNtU8MsDpr5"
      }
    },
    {
      "cell_type": "markdown",
      "source": [
        "tìm α -> thực hiện grid search trên không gian tham số α"
      ],
      "metadata": {
        "id": "k36P63fzD7zB"
      }
    },
    {
      "cell_type": "code",
      "source": [
        "import numpy as np\n",
        "from sklearn.preprocessing import StandardScaler\n",
        "from sklearn.pipeline import Pipeline\n",
        "from sklearn.model_selection import PredefinedSplit\n",
        "from sklearn.model_selection import train_test_split, GridSearchCV, KFold\n",
        "from sklearn.linear_model import Ridge\n",
        "from sklearn.linear_model import Lasso\n",
        "from sklearn.linear_model import ElasticNet\n",
        "\n",
        "X,y = load_diabetes(return_X_y=True)\n",
        "feature = load_diabetes()['feature_names'] #load feature(tính năng) like blood,...\n",
        "idx = np.arange(X.shape[0])\n",
        "\n",
        "X_train, X_test, y_train, y_test, idx_train, idx_test = train_test_split(X, y, idx, test_size=0.33, random_state=42)\n",
        "\n",
        "#khởi tạo phân chia tập train/test cho mô hình. đánh dấu chỉ số thuộc tập train là 0\n",
        "split_index = [0 if i in idx_train else -1 for i in idx]\n",
        "ps = PredefinedSplit(test_fold=split_index)\n",
        "\n",
        "#khởi tạo pipeline gồm 2 bước,'scaler' để chuẩn hóa đầu vào và 'model' là bước huấn luyện\n",
        "pipeline = Pipeline([\n",
        "    ('scaler', StandardScaler()),\n",
        "    ('model', Lasso())\n",
        "])\n",
        "\n",
        "#Gridsearch mô hình trên không gian tham số alpha\n",
        "#Hàm GridSearchCV để tìm kiếm siêu tham số alpha\n",
        "search = GridSearchCV(pipeline,\n",
        "                      {'model__alpha':np.arange(1,10,1)},#tham số alpha từ 1->10 huấn luyện mô hình\n",
        "                      cv = ps,#validation trên tập kiểm tra\n",
        "                      scoring=\"neg_mean_squared_error\", #trung bình tổng thời gian phần dư\n",
        "                      #ta lấy giá trị âm để tối ưu hóa giá trị scoring\n",
        "                      verbose=3)#Tham số này điều khiển mức độ chi tiết của thông tin được in ra trong quá trình tìm kiếm\n",
        "search.fit(X,y)\n",
        "print(search.best_estimator_)\n",
        "print(\"Best score: \",search.best_score_)\n"
      ],
      "metadata": {
        "colab": {
          "base_uri": "https://localhost:8080/"
        },
        "id": "pAzhAPctEQHC",
        "outputId": "613bc4ad-9c32-4f6c-ff1c-1b258c1574de"
      },
      "execution_count": null,
      "outputs": [
        {
          "output_type": "stream",
          "name": "stdout",
          "text": [
            "Fitting 1 folds for each of 9 candidates, totalling 9 fits\n",
            "[CV 1/1] END ................model__alpha=1;, score=-3451.244 total time=   0.0s\n",
            "[CV 1/1] END ................model__alpha=2;, score=-3487.387 total time=   0.0s\n",
            "[CV 1/1] END ................model__alpha=3;, score=-3537.712 total time=   0.0s\n",
            "[CV 1/1] END ................model__alpha=4;, score=-3592.514 total time=   0.0s\n",
            "[CV 1/1] END ................model__alpha=5;, score=-3635.517 total time=   0.0s\n",
            "[CV 1/1] END ................model__alpha=6;, score=-3644.689 total time=   0.0s\n",
            "[CV 1/1] END ................model__alpha=7;, score=-3657.498 total time=   0.0s\n",
            "[CV 1/1] END ................model__alpha=8;, score=-3673.971 total time=   0.0s\n",
            "[CV 1/1] END ................model__alpha=9;, score=-3693.801 total time=   0.0s\n",
            "Pipeline(steps=[('scaler', StandardScaler()), ('model', Lasso(alpha=1))])\n",
            "Best score:  -3451.2442486464993\n"
          ]
        }
      ]
    },
    {
      "cell_type": "markdown",
      "source": [
        "Đối với mô hình Ridge"
      ],
      "metadata": {
        "id": "51ylCzsYzZjY"
      }
    },
    {
      "cell_type": "code",
      "source": [
        "pipeline = Pipeline([\n",
        "    ('scaler', StandardScaler()),\n",
        "    ('model', Ridge())\n",
        "])\n",
        "\n",
        "#GridSearch mô hình trên không gian tham số alpha\n",
        "search = GridSearchCV(pipeline,\n",
        "                      {'model__alpha':np.arange(1,10,1)},\n",
        "                      cv=ps,\n",
        "                      scoring=\"neg_mean_squared_error\",\n",
        "                      verbose=3)\n",
        "search.fit(X,y)\n",
        "print(search.best_estimator_)\n",
        "print(\"Best score: \",search.best_score_)"
      ],
      "metadata": {
        "colab": {
          "base_uri": "https://localhost:8080/"
        },
        "id": "-Q_qhDMTzfTs",
        "outputId": "dafba5f4-e49e-4e11-f3e9-74f88308f62a"
      },
      "execution_count": null,
      "outputs": [
        {
          "output_type": "stream",
          "name": "stdout",
          "text": [
            "Fitting 1 folds for each of 9 candidates, totalling 9 fits\n",
            "[CV 1/1] END ................model__alpha=1;, score=-3422.824 total time=   0.0s\n",
            "[CV 1/1] END ................model__alpha=2;, score=-3423.774 total time=   0.0s\n",
            "[CV 1/1] END ................model__alpha=3;, score=-3421.026 total time=   0.0s\n",
            "[CV 1/1] END ................model__alpha=4;, score=-3417.143 total time=   0.0s\n",
            "[CV 1/1] END ................model__alpha=5;, score=-3412.895 total time=   0.0s\n",
            "[CV 1/1] END ................model__alpha=6;, score=-3408.586 total time=   0.0s\n",
            "[CV 1/1] END ................model__alpha=7;, score=-3404.353 total time=   0.0s\n",
            "[CV 1/1] END ................model__alpha=8;, score=-3400.262 total time=   0.0s\n",
            "[CV 1/1] END ................model__alpha=9;, score=-3396.347 total time=   0.0s\n",
            "Pipeline(steps=[('scaler', StandardScaler()), ('model', Ridge(alpha=9))])\n",
            "Best score:  -3396.3465942506955\n"
          ]
        }
      ]
    },
    {
      "cell_type": "markdown",
      "source": [
        "Đối với mô hình ElasticNet regression"
      ],
      "metadata": {
        "id": "OMFmlOPo0XaZ"
      }
    },
    {
      "cell_type": "code",
      "source": [
        "pipeline = Pipeline([\n",
        "    ('scaler', StandardScaler()),\n",
        "    ('model', ElasticNet())\n",
        "])\n",
        "\n",
        "#Gridsearch mô hình trên không gian tham số alpha\n",
        "search = GridSearchCV(pipeline,\n",
        "                      {\n",
        "                          'model__alpha':np.arange(1,10,1),#tham số alpha\n",
        "                          'model__l1_ratio':[0.2,0.5,0.8] #tham số l1 ratio\n",
        "                      },\n",
        "                      cv = ps,#validation trên tập kiểm tra\n",
        "                      scoring=\"neg_mean_squared_error\",#trung bình tổng bình phương\n",
        "                      verbose=3)\n",
        "\n",
        "search.fit(X,y)\n",
        "print(search.best_estimator_)\n",
        "print(\"Best score: \",search.best_score_)"
      ],
      "metadata": {
        "colab": {
          "base_uri": "https://localhost:8080/"
        },
        "id": "407i2qiR0cyc",
        "outputId": "bbaee174-1189-45be-b7c1-43b0e46928e3"
      },
      "execution_count": null,
      "outputs": [
        {
          "output_type": "stream",
          "name": "stdout",
          "text": [
            "Fitting 1 folds for each of 27 candidates, totalling 27 fits\n",
            "[CV 1/1] END model__alpha=1, model__l1_ratio=0.2;, score=-3483.222 total time=   0.0s\n",
            "[CV 1/1] END model__alpha=1, model__l1_ratio=0.5;, score=-3403.553 total time=   0.0s\n",
            "[CV 1/1] END model__alpha=1, model__l1_ratio=0.8;, score=-3367.597 total time=   0.0s\n",
            "[CV 1/1] END model__alpha=2, model__l1_ratio=0.2;, score=-3734.558 total time=   0.0s\n",
            "[CV 1/1] END model__alpha=2, model__l1_ratio=0.5;, score=-3577.297 total time=   0.0s\n",
            "[CV 1/1] END model__alpha=2, model__l1_ratio=0.8;, score=-3419.120 total time=   0.0s\n",
            "[CV 1/1] END model__alpha=3, model__l1_ratio=0.2;, score=-3951.139 total time=   0.0s\n",
            "[CV 1/1] END model__alpha=3, model__l1_ratio=0.5;, score=-3743.325 total time=   0.0s\n",
            "[CV 1/1] END model__alpha=3, model__l1_ratio=0.8;, score=-3492.936 total time=   0.0s\n",
            "[CV 1/1] END model__alpha=4, model__l1_ratio=0.2;, score=-4133.203 total time=   0.0s\n",
            "[CV 1/1] END model__alpha=4, model__l1_ratio=0.5;, score=-3897.419 total time=   0.0s\n",
            "[CV 1/1] END model__alpha=4, model__l1_ratio=0.8;, score=-3585.595 total time=   0.0s\n",
            "[CV 1/1] END model__alpha=5, model__l1_ratio=0.2;, score=-4287.510 total time=   0.0s\n",
            "[CV 1/1] END model__alpha=5, model__l1_ratio=0.5;, score=-4040.226 total time=   0.0s\n",
            "[CV 1/1] END model__alpha=5, model__l1_ratio=0.8;, score=-3682.836 total time=   0.0s\n",
            "[CV 1/1] END model__alpha=6, model__l1_ratio=0.2;, score=-4417.604 total time=   0.0s\n",
            "[CV 1/1] END model__alpha=6, model__l1_ratio=0.5;, score=-4162.738 total time=   0.0s\n",
            "[CV 1/1] END model__alpha=6, model__l1_ratio=0.8;, score=-3770.766 total time=   0.0s\n",
            "[CV 1/1] END model__alpha=7, model__l1_ratio=0.2;, score=-4530.992 total time=   0.0s\n",
            "[CV 1/1] END model__alpha=7, model__l1_ratio=0.5;, score=-4275.138 total time=   0.0s\n",
            "[CV 1/1] END model__alpha=7, model__l1_ratio=0.8;, score=-3853.380 total time=   0.0s\n",
            "[CV 1/1] END model__alpha=8, model__l1_ratio=0.2;, score=-4630.898 total time=   0.0s\n",
            "[CV 1/1] END model__alpha=8, model__l1_ratio=0.5;, score=-4378.421 total time=   0.0s\n",
            "[CV 1/1] END model__alpha=8, model__l1_ratio=0.8;, score=-3936.586 total time=   0.0s\n",
            "[CV 1/1] END model__alpha=9, model__l1_ratio=0.2;, score=-4719.488 total time=   0.0s\n",
            "[CV 1/1] END model__alpha=9, model__l1_ratio=0.5;, score=-4473.434 total time=   0.0s\n",
            "[CV 1/1] END model__alpha=9, model__l1_ratio=0.8;, score=-4019.556 total time=   0.0s\n",
            "Pipeline(steps=[('scaler', StandardScaler()),\n",
            "                ('model', ElasticNet(alpha=1, l1_ratio=0.8))])\n",
            "Best score:  -3367.5966446185935\n"
          ]
        }
      ]
    },
    {
      "cell_type": "markdown",
      "source": [],
      "metadata": {
        "id": "mMNS2Ck_2Ke7"
      }
    },
    {
      "cell_type": "markdown",
      "source": [
        "# Tổng kết"
      ],
      "metadata": {
        "id": "v8UVKvdg2KyX"
      }
    },
    {
      "cell_type": "markdown",
      "source": [
        "Khi huấn luyện mô hình hồi qui trên bộ dữ liệu có nhiều biến đầu vào (dữ liệu cao chiều) và những biến này có sự tương quan lần nhau thì ước lượng từ mô hình hồi qui tuyến tính thường có phương sai cao dẫn tới **hiện tượng quá khớp**.\n",
        "\n",
        "Để giảm thiểu hiện tượng quá khớp, thông thường sẽ cộng thêm **thành phần điều chuẩn(regularization term)** vào mô hình hồi qui.\n",
        "\n",
        "Có ba kĩ thuật chính để giảm thiểu các hệ số ước lượng từ mô hình hồi qui đó là: **Ridge, Lasso và Elastic Net**. Trong đó Elastict Net là một kết hợp tuyến tính giữa hồi qui Lasso và Ridge.\n",
        "\n",
        "Thành phần điều chuẩn của hồi qui Ridge chính là một trường hợp đặc biệt của điều chuẩn Tikhokov.\n",
        "\n",
        "Hồi qui Ridge thì có thành phần điều chuẩn là L2\n",
        " trong khi Lasso sử dụng L1\n",
        ".\n",
        "\n",
        "Phương pháp tuning hệ số alpha\n",
        " của các thành phần điều chuẩn thông qua **cross-validation** để tìm ra mô hình phù hợp nhất."
      ],
      "metadata": {
        "id": "xEOooJkb2NfA"
      }
    },
    {
      "cell_type": "markdown",
      "source": [
        "# Bài tập"
      ],
      "metadata": {
        "id": "_XSmkl4y247J"
      }
    },
    {
      "cell_type": "markdown",
      "source": [
        "1.Trong hồi qui Ridge chúng ta sẽ kiểm soát hàm mất mát bằng cách nào?\n",
        "- bằng cách thêm regularization term vào hàm loss để kiểm soát mức độ ảnh hưởng độ lớn của thành phần điều chuẩn-> tránh overfitting và ổn định ước lượng"
      ],
      "metadata": {
        "id": "Gkw0jgzp284g"
      }
    },
    {
      "cell_type": "markdown",
      "source": [
        "2.Vì sao hồi qui Ridge luôn đảm bảo tìm được giá trị ước lượng cho bài toán tối ưu.\n",
        "- vì theo mặt toán học thì $\\frac{\\partial \\mathcal{L}(\\mathbf{w})}{\\partial \\mathbf{w}}$ = 0 luôn có nghiệm"
      ],
      "metadata": {
        "id": "9uykfqf14v78"
      }
    },
    {
      "cell_type": "markdown",
      "source": [
        "3.Theo phương pháp điều chuẩn Tikhokov thì ma trận\n",
        " của thành phần điều chuẩn thường là một ma trận như thế nào?\n",
        "- ma trận luôn là ma trận đường chéo"
      ],
      "metadata": {
        "id": "EJl9hmzf5-Ai"
      }
    },
    {
      "cell_type": "markdown",
      "source": [
        "4.Sử dụng bộ dữ liệu boston’s house price hãy phân chia tập train/test theo tỷ lệ 80:20. Xây dựng mô hình hồi qui hồi qui tuyến tính dự báo giá nhà trên tập train và đánh giá trên tập test."
      ],
      "metadata": {
        "id": "aK3eUtJk9IVC"
      }
    },
    {
      "cell_type": "code",
      "source": [
        "import pandas as pd\n",
        "import numpy as np\n",
        "\n",
        "data_url = \"http://lib.stat.cmu.edu/datasets/boston\"\n",
        "raw_df = pd.read_csv(data_url, sep=\"\\s+\", skiprows=22, header=None)\n",
        "data = np.hstack([raw_df.values[::2, :], raw_df.values[1::2, :2]])\n",
        "target = raw_df.values[1::2, 2]\n",
        "\n",
        "from sklearn.datasets import fetch_california_housing\n",
        "from sklearn.model_selection import train_test_split\n",
        "from sklearn.linear_model import LinearRegression\n",
        "from sklearn.metrics import mean_squared_error\n",
        "\n",
        "X,y = fetch_california_housing(return_X_y = True)\n",
        "X_train,X_test,y_train,y_test = train_test_split(X,y,test_size=0.2,random_state=42)\n",
        "\n",
        "reg = LinearRegression()\n",
        "reg.fit(X_train,y_train)\n",
        "\n",
        "y_pred = reg.predict(X_test)\n",
        "print(\"MSE:\", mean_squared_error(y_test,y_pred))\n",
        "print(reg.coef_)\n",
        "print(reg.intercept_)"
      ],
      "metadata": {
        "colab": {
          "base_uri": "https://localhost:8080/"
        },
        "id": "8zlJmJ5f9NtR",
        "outputId": "a50e6179-1c69-4d81-be23-8682c5a57bba"
      },
      "execution_count": null,
      "outputs": [
        {
          "output_type": "stream",
          "name": "stdout",
          "text": [
            "MSE: 0.5558915986952422\n",
            "[ 4.48674910e-01  9.72425752e-03 -1.23323343e-01  7.83144907e-01\n",
            " -2.02962058e-06 -3.52631849e-03 -4.19792487e-01 -4.33708065e-01]\n",
            "-37.02327770606391\n"
          ]
        }
      ]
    },
    {
      "cell_type": "markdown",
      "source": [
        "huấn luyện Ridge reg"
      ],
      "metadata": {
        "id": "xuQ2ex22O3pi"
      }
    },
    {
      "cell_type": "code",
      "source": [
        "from sklearn.linear_model import Ridge\n",
        "\n",
        "reg_ridge = Ridge(alpha = 1.0)\n",
        "reg_ridge.fit(X_train,y_train)\n",
        "\n",
        "print(reg_ridge.score(X_train,y_train))\n",
        "print(reg_ridge.coef_)\n",
        "print(reg_ridge.intercept_)\n",
        "\n",
        "\n",
        "\n"
      ],
      "metadata": {
        "colab": {
          "base_uri": "https://localhost:8080/"
        },
        "id": "0u6ViUmNINmj",
        "outputId": "b5f19d8b-cdfe-46b4-e29e-5b9decdc196e"
      },
      "execution_count": null,
      "outputs": [
        {
          "output_type": "stream",
          "name": "stdout",
          "text": [
            "0.6125511245209703\n",
            "[ 4.48510924e-01  9.72596535e-03 -1.23014157e-01  7.81416761e-01\n",
            " -2.02581346e-06 -3.52585878e-03 -4.19786908e-01 -4.33680793e-01]\n",
            "-37.019419838012475\n"
          ]
        }
      ]
    },
    {
      "cell_type": "markdown",
      "source": [
        "huấn luyện Lasso Regression"
      ],
      "metadata": {
        "id": "wQojIMjjPdmc"
      }
    },
    {
      "cell_type": "code",
      "source": [
        "from sklearn.linear_model import Lasso\n",
        "\n",
        "reg_lasso = Lasso(alpha = 1.0)\n",
        "reg_lasso.fit(X_train,y_train)\n",
        "\n",
        "print(reg_lasso.score(X_train,y_train)) #tính toán hệ số R^2, cho biết mức độ phù hợp của mô hình với dữ liệu huấn luyện\n",
        "print(reg_lasso.coef_)\n",
        "print(reg_lasso.intercept_)"
      ],
      "metadata": {
        "colab": {
          "base_uri": "https://localhost:8080/"
        },
        "id": "VG-ZXCv0PgXz",
        "outputId": "9c3e12fb-27f0-4f18-f399-919ca00093d4"
      },
      "execution_count": null,
      "outputs": [
        {
          "output_type": "stream",
          "name": "stdout",
          "text": [
            "0.29040715589885424\n",
            "[ 1.48196324e-01  5.72821070e-03  0.00000000e+00 -0.00000000e+00\n",
            " -8.16437293e-06 -0.00000000e+00 -0.00000000e+00 -0.00000000e+00]\n",
            "1.3446052311240813\n"
          ]
        }
      ]
    }
  ]
}