{
  "nbformat": 4,
  "nbformat_minor": 0,
  "metadata": {
    "colab": {
      "provenance": [],
      "authorship_tag": "ABX9TyNrEdUMSNjCXc4bwJ9BqFSi",
      "include_colab_link": true
    },
    "kernelspec": {
      "name": "python3",
      "display_name": "Python 3"
    },
    "language_info": {
      "name": "python"
    }
  },
  "cells": [
    {
      "cell_type": "markdown",
      "metadata": {
        "id": "view-in-github",
        "colab_type": "text"
      },
      "source": [
        "<a href=\"https://colab.research.google.com/github/deanzedd/Machine-Learning/blob/main/Perceptron.ipynb\" target=\"_parent\"><img src=\"https://colab.research.google.com/assets/colab-badge.svg\" alt=\"Open In Colab\"/></a>"
      ]
    },
    {
      "cell_type": "markdown",
      "source": [
        "#Minh họa trên python"
      ],
      "metadata": {
        "id": "euQUTkJ0Wxh3"
      }
    },
    {
      "cell_type": "markdown",
      "source": [
        "Giả sử đã tìm được vector trọng số w, nhãn của các điểm dữ liệu X được xác định bằng hàm bên dưới"
      ],
      "metadata": {
        "id": "w_lMGNx4W2-U"
      }
    },
    {
      "cell_type": "code",
      "execution_count": null,
      "metadata": {
        "id": "dtpOxdX63QhY"
      },
      "outputs": [],
      "source": [
        "import numpy as np\n",
        "def predict(w, X):\n",
        "  \"\"\"\n",
        "  predict label of each row of X, given w\n",
        "  X: a 2-d numpy array of shape (N, D), each row is data point\n",
        "  w: a 1-d numpy array of shape (D)\n",
        "  \"\"\"\n",
        "  return np.sign(X.dot(w))\n"
      ]
    },
    {
      "cell_type": "code",
      "source": [
        "def perceptron(X, y, w_init):\n",
        "  \"\"\" perform perceptron learning algorithm\n",
        "  X: a 2-d numpy array of shape (N, d), each row is a data point\n",
        "  y: a 1-d numpy array of shape (N), label of each row of X, y[i]=1/-1\n",
        "  w_init: a 1-d numpy array of shape (d)\n",
        "  \"\"\"\n",
        "  w = w_init\n",
        "  while True:\n",
        "    pred = predict(w, X)\n",
        "    #find indexs of misclassified points\n",
        "    mis_idx = np.where(np.equal(pred, y) == False)[0]\n",
        "    #number of misclassified points\n",
        "    num_mis = mis_idx.shape[0]\n",
        "    if num_mis ==0:\n",
        "\n",
        "      return w\n",
        "    #randomly pick one misclassified point\n",
        "    random_id = np.random.choice(mis_idx, 1)[0]\n",
        "    #update w\n",
        "    w = w + y[random_id]*X[random_id]\n",
        "    print(w)\n",
        "  return w\n"
      ],
      "metadata": {
        "id": "Ak8t9HmAXER0"
      },
      "execution_count": null,
      "outputs": []
    },
    {
      "cell_type": "code",
      "source": [
        "means = [[-1, 0], [1, 0]]\n",
        "cov = [[.3, .2], [.2, .3]]\n",
        "N= 10\n",
        "x0= np.random.multivariate_normal(means[0], cov, N)\n",
        "x1= np.random.multivariate_normal(means[1], cov, N)\n",
        "\n",
        "X = np.concatenate((x0,x1), axis = 0)\n",
        "y = np.concatenate((np.ones(N), -1*np.ones(N)))\n",
        "\n",
        "Xbar = np.concatenate((np.ones((2*N, 1)), X), axis = 1)\n",
        "w_init = np.random.randn(Xbar.shape[1])\n",
        "w = perceptron(Xbar, y, w_init)\n",
        "\n"
      ],
      "metadata": {
        "colab": {
          "base_uri": "https://localhost:8080/"
        },
        "id": "tBElCD0TZufN",
        "outputId": "47318191-abd1-4ddf-a975-481eb879d024"
      },
      "execution_count": null,
      "outputs": [
        {
          "output_type": "stream",
          "name": "stdout",
          "text": [
            "[ 0.11238354 -0.63010294  0.4991172 ]\n"
          ]
        }
      ]
    },
    {
      "cell_type": "code",
      "source": [
        "import numpy as np\n",
        "\n",
        "pred = np.array([0, 1, 1, 0, 1])\n",
        "y = np.array([0, 0, 1, 1, 1])\n",
        "\n",
        "mis_idx = np.where(np.equal(pred, y) == False)[0]\n",
        "\n",
        "print(mis_idx)\n",
        "print(mis_idx.shape[0])"
      ],
      "metadata": {
        "colab": {
          "base_uri": "https://localhost:8080/"
        },
        "id": "rNaFMFWBbZEF",
        "outputId": "effd93b7-5cee-44fe-a5a4-be8f84e78edf"
      },
      "execution_count": null,
      "outputs": [
        {
          "output_type": "stream",
          "name": "stdout",
          "text": [
            "[1 3]\n",
            "2\n"
          ]
        }
      ]
    },
    {
      "cell_type": "code",
      "source": [],
      "metadata": {
        "id": "xvf7w4FufvWD"
      },
      "execution_count": null,
      "outputs": []
    }
  ]
}