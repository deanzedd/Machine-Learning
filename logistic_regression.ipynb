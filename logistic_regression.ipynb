{
  "nbformat": 4,
  "nbformat_minor": 0,
  "metadata": {
    "colab": {
      "provenance": [],
      "mount_file_id": "1qyHZvb6reUwbIuCMY1M2PPdzqjcoXwbS",
      "authorship_tag": "ABX9TyOm/VyZwwOeL/W44QnAgi6z",
      "include_colab_link": true
    },
    "kernelspec": {
      "name": "python3",
      "display_name": "Python 3"
    },
    "language_info": {
      "name": "python"
    }
  },
  "cells": [
    {
      "cell_type": "markdown",
      "metadata": {
        "id": "view-in-github",
        "colab_type": "text"
      },
      "source": [
        "<a href=\"https://colab.research.google.com/github/deanzedd/Machine-Learning/blob/main/logistic_regression.ipynb\" target=\"_parent\"><img src=\"https://colab.research.google.com/assets/colab-badge.svg\" alt=\"Open In Colab\"/></a>"
      ]
    },
    {
      "cell_type": "markdown",
      "source": [
        "#Ví dụ trên python"
      ],
      "metadata": {
        "id": "u51z1RmsgC9c"
      }
    },
    {
      "cell_type": "code",
      "source": [
        "import numpy as np"
      ],
      "metadata": {
        "id": "MW6EAvAxXvYZ"
      },
      "execution_count": null,
      "outputs": []
    },
    {
      "cell_type": "markdown",
      "source": [
        "Tạo hàm kích hoạt sigmoid"
      ],
      "metadata": {
        "id": "TUwWx9VQYbJ5"
      }
    },
    {
      "cell_type": "code",
      "execution_count": null,
      "metadata": {
        "id": "luOOYEBtjL9T"
      },
      "outputs": [],
      "source": [
        "def sigmoid(S):\n",
        "  \"\"\"\n",
        "  S: an numpy array\n",
        "  return sigmoid funct of each element of S\n",
        "  \"\"\"\n",
        "  return 1/(1 + np.exp(-S))"
      ]
    },
    {
      "cell_type": "markdown",
      "source": [
        "thuật toán bằng SGD(sigmoid logistic reg with SGD)"
      ],
      "metadata": {
        "id": "HHRSzEsaYfLw"
      }
    },
    {
      "cell_type": "markdown",
      "source": [
        "kết hợp thêm weight decay"
      ],
      "metadata": {
        "id": "2bmt2jc-Z0zQ"
      }
    },
    {
      "cell_type": "code",
      "source": [
        "def prob(w, X):\n",
        "  \"\"\"\n",
        "  X: a 2d numpy array of shape (N, d), N data points, each with size d\n",
        "  w: a 1d numpy array of shape (d)\n",
        "  \"\"\"\n",
        "  return sigmoid(X.dot(w))\n",
        "\n",
        "def Loss(w, X, y, lamda):\n",
        "  \"\"\"\n",
        "  X, w as in prob\n",
        "  y: a 1d numpy array of shape (N), each element 1 or 0\n",
        "  \"\"\"\n",
        "  a = prob(w, X)\n",
        "  loss = -np.mean(y*np.log(a) + (1-y)*np.log(1-a))\n",
        "  weight_decay = 0.5*lamda*np.sum(w*w)/X.shape[0]\n",
        "  return loss + weight_decay"
      ],
      "metadata": {
        "id": "_VahTdqIXzZN"
      },
      "execution_count": null,
      "outputs": []
    },
    {
      "cell_type": "code",
      "source": [
        "def logistic_regression(w_init, X, y, lamda, lr=0.1, nepochs = 2000):\n",
        "  N, d = X.shape\n",
        "  w = w_old = w_init\n",
        "  # store history of loss in loss_hist\n",
        "  loss_hist = [Loss(w, X, y, lamda)]\n",
        "  ep = 0\n",
        "  while ep < nepochs:\n",
        "    ep +=1\n",
        "    mix_ids = np.random.permutation(N) #for stochastic\n",
        "    for i in mix_ids:\n",
        "      Xi = X[i]\n",
        "      yi = y[i]\n",
        "      ai = sigmoid(Xi.dot(w))\n",
        "      #update\n",
        "      w = w - lr*((ai - yi)*Xi + lamda*w)\n",
        "      loss_hist.append(Loss(w, X, y, lamda))\n",
        "    if np.linalg.norm(w - w_old)<1e-3:\n",
        "      print(\"done in \"+str(ep))\n",
        "      break\n",
        "    w_old = w\n",
        "  return w, loss_hist\n",
        "\n"
      ],
      "metadata": {
        "id": "tpdfyz3la0rV"
      },
      "execution_count": null,
      "outputs": []
    },
    {
      "cell_type": "code",
      "source": [
        "np.random.seed(3)\n",
        "X = np.array([[0.50, 0.75, 1.00, 1.25, 1.50, 1.75, 1.75, 2.00, 2.25, 2.50,\n",
        " 2.75, 3.00, 3.25, 3.50, 4.00, 4.25, 4.50, 4.75, 5.00, 5.50]]).T\n",
        "y = np.array([0, 0, 0, 0, 0, 0, 1, 0, 1, 0, 1, 0, 1, 0, 1, 1, 1, 1, 1, 1])\n",
        "\n",
        "#bias trick\n",
        "Xbar = np.concatenate((X, np.ones((X.shape[0], 1))), axis = 1)\n",
        "w_init = np.random.randn(Xbar.shape[1])\n",
        "lam = 0.0001\n",
        "w, loss_hist = logistic_regression(w_init, Xbar, y, lam, lr=0.05, nepochs=5000)\n",
        "print(\"Solution of Logistic Regression:\", w)\n",
        "print(\"Final loss:\", Loss(w, Xbar, y, lam))"
      ],
      "metadata": {
        "colab": {
          "base_uri": "https://localhost:8080/"
        },
        "id": "QSQbxT3pbb26",
        "outputId": "bdf8c102-0fa6-42e0-ac6f-2ac822b0d353"
      },
      "execution_count": null,
      "outputs": [
        {
          "output_type": "stream",
          "name": "stdout",
          "text": [
            "done in 364\n",
            "Solution of Logistic Regression: [ 1.50744302 -4.09474562]\n",
            "Final loss: 0.4015479935949766\n"
          ]
        }
      ]
    },
    {
      "cell_type": "markdown",
      "source": [
        "ngưỡng quyết định có thể thay đổi"
      ],
      "metadata": {
        "id": "yHQ0DqXWekQO"
      }
    },
    {
      "cell_type": "code",
      "source": [
        "def predict(w, X, threshold=0.5):\n",
        "  \"\"\"\n",
        "  predict output for each row of X\n",
        "  X: a numpy array of shape (N, d), threshold: 0 < threshold <1(ngưỡng quyết định)\n",
        "  return a 1d numpy array, each element is 0 or 1\n",
        "  \"\"\"\n",
        "  res = np.zeros(X.shape[0])\n",
        "  res[np.where(prob(w, X) > threshold)[0]]=1\n",
        "  return res"
      ],
      "metadata": {
        "id": "4LHBAidCfuwx"
      },
      "execution_count": null,
      "outputs": []
    },
    {
      "cell_type": "markdown",
      "source": [
        "#Bài toán phân loại hai chữ số viết tay"
      ],
      "metadata": {
        "id": "88Pwe22VgHGB"
      }
    },
    {
      "cell_type": "markdown",
      "source": [
        "Ta sẽ phân loại 0 và 1 bằng logis trên tập dữ liệu MNIST"
      ],
      "metadata": {
        "id": "aPSG3H6Gi-4k"
      }
    },
    {
      "cell_type": "code",
      "source": [
        "import numpy as np\n",
        "from sklearn.datasets import fetch_openml\n",
        "from sklearn.model_selection import train_test_split\n",
        "from sklearn.linear_model import LogisticRegression\n",
        "from sklearn.metrics import accuracy_score\n",
        "\n",
        "mnist = fetch_openml('mnist_784', version =1, as_frame=False) #as_frame = False to ensure data is loaded as numpy array\n",
        "N, d = mnist.data.shape\n",
        "\n",
        "print(\"Total {:d} samples, each has {:d} pixels.\".format(N, d))"
      ],
      "metadata": {
        "colab": {
          "base_uri": "https://localhost:8080/"
        },
        "id": "jQyH_IX8gLDz",
        "outputId": "0a4a79d5-3740-4ac9-b9f3-3a0cb4c7ebd3"
      },
      "execution_count": null,
      "outputs": [
        {
          "output_type": "stream",
          "name": "stdout",
          "text": [
            "Total 70000 samples, each has 784 pixels.\n"
          ]
        }
      ]
    },
    {
      "cell_type": "code",
      "source": [
        "X_all = mnist.data\n",
        "y_all = mnist.target\n",
        "X0 = X_all[np.where(y_all=='0')[0]] #all digit 0\n",
        "X1 = X_all[np.where(y_all=='1')[0]] #all digit 1(the target variable y_all in the MNIST datasets is loaded as string)\n",
        "y0 = np.zeros(X0.shape[0])\n",
        "y1 = np.ones(X1.shape[0])\n",
        "X = np.concatenate((X0, X1), axis = 0)\n",
        "y = np.concatenate((np.zeros(X0.shape[0]), np.ones(X1.shape[0])))\n",
        "#split train and test\n",
        "np.random.seed(3)\n",
        "X_train, X_test, y_train, y_test = train_test_split(X, y, test_size=2000, random_state=42)\n"
      ],
      "metadata": {
        "id": "mxUwtEyhimOW"
      },
      "execution_count": null,
      "outputs": []
    },
    {
      "cell_type": "code",
      "source": [
        "model = LogisticRegression(C=1e5, max_iter=2000)\n",
        "model.fit(X_train, y_train)\n",
        "y_pred = model.predict(X_test)\n",
        "print(accuracy_score(y_test, y_pred))\n",
        "print(\"Accuracy %.2f %%\" % (100*accuracy_score(y_test, y_pred.tolist())))"
      ],
      "metadata": {
        "colab": {
          "base_uri": "https://localhost:8080/"
        },
        "id": "QBtIezBmkRkv",
        "outputId": "2523cb97-31b0-46fb-d528-c78b3d234e26"
      },
      "execution_count": null,
      "outputs": [
        {
          "output_type": "stream",
          "name": "stdout",
          "text": [
            "0.9985\n",
            "Accuracy 99.85 %\n"
          ]
        }
      ]
    },
    {
      "cell_type": "markdown",
      "source": [
        "tìm những ảnh bị phân loại sai và hiển thị đúng"
      ],
      "metadata": {
        "id": "ALvu6GqLn85C"
      }
    },
    {
      "cell_type": "code",
      "source": [
        "from display_network import display_network\n",
        "import matplotlib.pyplot as plt"
      ],
      "metadata": {
        "id": "R1DVxdvKo_OV"
      },
      "execution_count": null,
      "outputs": []
    },
    {
      "cell_type": "code",
      "source": [
        "mis = np.where((y_pred-y_test) !=0)[0]\n",
        "Xmis = X_test[mis, :]\n",
        "from display_network import *\n",
        "plt.axis('off')\n",
        "A = display_network(Xmis.T)\n",
        "f2 = plt.imshow(A, interpolation='nearest' )\n",
        "plt.gray()\n",
        "plt.show()\n"
      ],
      "metadata": {
        "colab": {
          "base_uri": "https://localhost:8080/",
          "height": 406
        },
        "id": "X_Y-Y9a-lfbr",
        "outputId": "795c313d-c045-414e-f398-d1094935241e"
      },
      "execution_count": null,
      "outputs": [
        {
          "output_type": "display_data",
          "data": {
            "text/plain": [
              "<Figure size 640x480 with 1 Axes>"
            ],
            "image/png": "[encoded data removed]"
          },
          "metadata": {}
        }
      ]
    },
    {
      "cell_type": "markdown",
      "source": [
        "#multi-class classification"
      ],
      "metadata": {
        "id": "Gex18qCZpvqJ"
      }
    },
    {
      "cell_type": "markdown",
      "source": [
        "1. one-vs-one\n",
        "  \n",
        "  với C là số lượng nhãn thì ta xây dựng bộ phân loại nhị phân cho từng cặp dữ liệu -> P=C*(C-1)/2 bộ nhị phân -> tốn kém\n",
        "\n",
        "2. phân loại theo tầng\n",
        "\n",
        "  ý tưởng: ta nhóm 1 vài nhãn thành 1 tầng rồi sau đó có thể phân tầng hoặc phân loại nhị phân\n",
        "\n",
        "  ưu điểm: giảm bộ phân tầng\n",
        "\n",
        "  nhược điểm: nếu 1 điểm dữ liệu được phân loại sai từ 1 tầng nào đó thì 100% kq sai-> ko ai sd\n",
        "\n",
        "3. mã hóa nhị phân\n",
        "\n",
        "  ý tưởng: C nhãn thì ta sẽ tạo bộ phân loại có số bit là [log2(C)] = k\n",
        "\n",
        "  ưu điểm: giảm bộ phân loại\n",
        "\n",
        "  nhược điểm: 1 điểm dữ liệu phân loại đúng nếu nó đúng hết k bộ phân loại\n",
        "\n",
        "4. one-vs-rest\n",
        "\n",
        "  ý tưởng: C bộ phân loại nhị phân ứng với C nhãn, mỗi bộ xác định xem có phải nhãn của mình bằng xác suất\n",
        "\n",
        "  Trong sklearn đã cài sẵn thuật toán trong logistic reg\n"
      ],
      "metadata": {
        "id": "MkHAj7cFp0qU"
      }
    }
  ]
}