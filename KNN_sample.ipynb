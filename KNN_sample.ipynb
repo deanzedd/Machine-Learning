{
  "nbformat": 4,
  "nbformat_minor": 0,
  "metadata": {
    "colab": {
      "provenance": [],
      "collapsed_sections": [
        "48usqEE4jHk5"
      ],
      "authorship_tag": "ABX9TyPbMVdZks5mKRx4Ea8D8DV4",
      "include_colab_link": true
    },
    "kernelspec": {
      "name": "python3",
      "display_name": "Python 3"
    },
    "language_info": {
      "name": "python"
    }
  },
  "cells": [
    {
      "cell_type": "markdown",
      "metadata": {
        "id": "view-in-github",
        "colab_type": "text"
      },
      "source": [
        "<a href=\"https://colab.research.google.com/github/deanzedd/Machine-Learning/blob/main/KNN_sample.ipynb\" target=\"_parent\"><img src=\"https://colab.research.google.com/assets/colab-badge.svg\" alt=\"Open In Colab\"/></a>"
      ]
    },
    {
      "cell_type": "markdown",
      "source": [
        "# khoảng cách điểm dữ liệu"
      ],
      "metadata": {
        "id": "VkYzkZMwiGYK"
      }
    },
    {
      "cell_type": "markdown",
      "source": [
        "code mẫu phần tính khoảng cách các điểm dữ liệu"
      ],
      "metadata": {
        "id": "-gbjpb7atFEO"
      }
    },
    {
      "cell_type": "code",
      "execution_count": null,
      "metadata": {
        "id": "yZzsSUTYVxie"
      },
      "outputs": [],
      "source": [
        "from __future__ import print_function\n",
        "import numpy as np\n",
        "from time import time #for comparing running time\n",
        "d, N=1000, 10000 #dimension and number of training points\n",
        "X=np.random.randn(N,d) #N d-dimensional points\n",
        "z=np.random.randn(d) #d-dimensional vector\n"
      ]
    },
    {
      "cell_type": "code",
      "source": [
        "#naively compute square distance between two vector(point to point)\n",
        "def dist_pp(z,x) :\n",
        "  d = z - x.reshape(z.shape) # force x and z to have the same dims\n",
        "  return np.sum(d*d)\n",
        "\n",
        "## ps = point to set\n",
        "#from one point to each point in a set, naive\n",
        "def dist_ps_naive(z,X) :\n",
        "  N = X.shape[0] #N = N(N rows in X)\n",
        "  res = np.zeros((1,N))\n",
        "  for i in range(N) :\n",
        "    res[0][i] = dist_pp(z,X[i])\n",
        "  return res\n",
        "\n",
        "# from one point to each point in a set, fast\n",
        "def dist_ps_fast(z,X) :\n",
        "  X2 = np.sum(X*X,1) # square of l2 norm of each X[i], can be precomputed\n",
        "  z2 = np.sum(z*z) # square of l2 norm of z\n",
        "  return X2 + z2 - 2*X.dot(z) # z2 can be ignored\n",
        "\n",
        "t1 = time()\n",
        "D1 = dist_ps_naive(z,X)\n",
        "print('naive point2set, running time:', time() - t1, 's')\n",
        "\n",
        "t1 = time()\n",
        "D2 = dist_ps_fast(z,X)\n",
        "print('fast point2set , running time:', time() - t1, 's')\n",
        "print('Result difference:', np.linalg.norm(D1 - D2))\n",
        "\n"
      ],
      "metadata": {
        "colab": {
          "base_uri": "https://localhost:8080/"
        },
        "id": "3Lis4O2fXAOS",
        "outputId": "6e73941a-de1a-4257-e965-041cf2702d95"
      },
      "execution_count": null,
      "outputs": [
        {
          "output_type": "stream",
          "name": "stdout",
          "text": [
            "naive point2set, running time: 0.16475605964660645 s\n",
            "fast point2set , running time: 0.06168937683105469 s\n",
            "Result difference: 2.3863406147372906e-11\n"
          ]
        }
      ]
    },
    {
      "cell_type": "code",
      "source": [
        "Z=np.random.randn(100,d) #100 d-dimesional points\n",
        "#ss= set to set\n",
        "#from each point in one set to each point in another set, half fast\n",
        "def dist_ss_0(Z,X) :\n",
        "  M,N = Z.shape[0],X.shape[0]\n",
        "  res = np.zeros((M,N))\n",
        "  for i in range(M) :\n",
        "    res[i] = dist_ps_fast(Z[i],X)\n",
        "  return res\n",
        "print(Z.shape) #(100,1000=d)\n",
        "print(X.shape[0]) #10000=N\n",
        "\n",
        "#from each point in one set to each point in another set, fast\n",
        "def dist_ss_fast(Z,X) :\n",
        "  X2 = np.sum(X*X,1) # square of l2 norm of each row of X\n",
        "  Z2 = np.sum(Z*Z,1) # square of l\n",
        "  return Z2.reshape(-1,1) + X2.reshape(1,-1) - 2*Z.dot(X.T)\n",
        "\n",
        "t1 = time()\n",
        "D3 = dist_ss_0(Z,X)\n",
        "print('half fast set2set running time:', time() - t1, 's')\n",
        "t1 = time()\n",
        "D4 = dist_ss_fast(Z,X)\n",
        "print('fast set2set running time:', time() - t1, 's')\n",
        "print('Result difference:', np.linalg.norm(D3 - D4))"
      ],
      "metadata": {
        "colab": {
          "base_uri": "https://localhost:8080/"
        },
        "id": "8YyMMZlag1zr",
        "outputId": "808b7f63-9dd4-489f-b22a-d48775a65956"
      },
      "execution_count": null,
      "outputs": [
        {
          "output_type": "stream",
          "name": "stdout",
          "text": [
            "(100, 1000)\n",
            "10000\n",
            "half fast set2set running time: 6.827006101608276 s\n",
            "fast set2set running time: 0.12366271018981934 s\n",
            "Result difference: 1.008814233156002e-10\n"
          ]
        }
      ]
    },
    {
      "cell_type": "markdown",
      "source": [
        "# IRis flower data set"
      ],
      "metadata": {
        "id": "4jmw1muYvIXQ"
      }
    },
    {
      "cell_type": "code",
      "source": [
        "from __future__ import print_function\n",
        "import numpy as np\n",
        "from sklearn import neighbors, datasets\n",
        "from sklearn.model_selection import train_test_split #for splitting data\n",
        "from sklearn.metrics import accuracy_score #for evaluating results\n",
        "\n",
        "iris = datasets.load_iris()\n",
        "iris_X = iris.data\n",
        "iris_y = iris.target\n",
        "print('Labels:', np.unique(iris_y))\n",
        "\n",
        "# split train and test\n",
        "np.random.seed(7) #7 thêm vào để đảm bảo kết quả chạy(7 có thể thay bằng số bất kì 32 bit)\n",
        "X_train, X_test, y_train, y_test = train_test_split(iris_X, iris_y, test_size=130)\n",
        "\n",
        "print('Train size:', X_train.shape[0], ', test size:', X_test.shape[0])\n"
      ],
      "metadata": {
        "colab": {
          "base_uri": "https://localhost:8080/"
        },
        "id": "k7tqdwAvvZQb",
        "outputId": "8712586e-af88-4e82-cddd-e1393ddeb9e8"
      },
      "execution_count": null,
      "outputs": [
        {
          "output_type": "stream",
          "name": "stdout",
          "text": [
            "Labels: [0 1 2]\n",
            "Train size: 20 , test size: 130\n"
          ]
        }
      ]
    },
    {
      "cell_type": "markdown",
      "source": [
        "*result of 1NN*"
      ],
      "metadata": {
        "id": "45uNVNWeHywT"
      }
    },
    {
      "cell_type": "code",
      "source": [
        "#result of 1NN\n",
        "model = neighbors.KNeighborsClassifier(n_neighbors = 1, p = 2) #K=1,p=2 chính là l2 norm(p=1 là l1 norm)\n",
        "model.fit(X_train, y_train)\n",
        "y_pred = model.predict(X_test)\n",
        "print(\"Accuracy of 1NN: %.2f %%\" %(100*accuracy_score(y_test, y_pred)))"
      ],
      "metadata": {
        "colab": {
          "base_uri": "https://localhost:8080/"
        },
        "id": "tdhMYuBUGnfd",
        "outputId": "675f3d89-30c2-47c7-f7ab-2bfcb1ab18d4"
      },
      "execution_count": null,
      "outputs": [
        {
          "output_type": "stream",
          "name": "stdout",
          "text": [
            "Accuracy of 1NN: 92.31 %\n"
          ]
        }
      ]
    },
    {
      "cell_type": "markdown",
      "source": [
        "*result of 7NN*"
      ],
      "metadata": {
        "id": "2BVjfLNUH6RN"
      }
    },
    {
      "cell_type": "code",
      "source": [
        "model = neighbors.KNeighborsClassifier(n_neighbors= 7, p = 2)\n",
        "model.fit(X_train, y_train)\n",
        "y_pred = model.predict(X_test)\n",
        "\n",
        "print(\"Accuracy of 7NN with major voting: %.2f %%\" %(100*accuracy_score(y_test, y_pred)))"
      ],
      "metadata": {
        "colab": {
          "base_uri": "https://localhost:8080/"
        },
        "id": "FtPN0dzUHl4I",
        "outputId": "2338d82a-9e0d-4cec-db13-3bca645a8ceb"
      },
      "execution_count": null,
      "outputs": [
        {
          "output_type": "stream",
          "name": "stdout",
          "text": [
            "Accuracy of 7NN with major voting: 93.85 %\n"
          ]
        }
      ]
    },
    {
      "cell_type": "markdown",
      "source": [
        "*đánh trọng số điểm lân cận*\n",
        "\n",
        "điểm càng gần thì càng tốt-> trọng số cao\n",
        "weights = ’distance’\n",
        "\n",
        "weights là ’uniform’ (default)\n"
      ],
      "metadata": {
        "id": "4ntw6bb7cJtS"
      }
    },
    {
      "cell_type": "code",
      "source": [
        "model = neighbors.KNeighborsClassifier(n_neighbors= 7, p=2, weights='distance')\n",
        "model.fit(X_train, y_train)\n",
        "y_pred = model.predict(X_test)\n",
        "\n",
        "print(\"Accuracy of 7NN (1/distance weights): %.2f %%\" %(100*accuracy_score(y_test, y_pred)))"
      ],
      "metadata": {
        "colab": {
          "base_uri": "https://localhost:8080/"
        },
        "id": "EMZOaUKONbC6",
        "outputId": "5cdbbfd0-3790-463b-fe07-d1ad097c1296"
      },
      "execution_count": null,
      "outputs": [
        {
          "output_type": "stream",
          "name": "stdout",
          "text": [
            "Accuracy of 7NN (1/distance weights): 94.62 %\n"
          ]
        }
      ]
    },
    {
      "cell_type": "markdown",
      "source": [
        "*KNN tự định nghĩa*"
      ],
      "metadata": {
        "id": "LSgGKlYCcRG5"
      }
    },
    {
      "cell_type": "code",
      "source": [
        "def myweight(distances) :\n",
        "  sigma2 = .4 # we can change this number\n",
        "  return np.exp(-distances**2/sigma2)\n",
        "\n",
        "model = neighbors.KNeighborsClassifier(n_neighbors= 7, p=2, weights=myweight)\n",
        "model.fit(X_train, y_train)\n",
        "y_pred = model.predict(X_test)\n",
        "\n",
        "print(\"Accuracy of 7NN (customized weights): %.2f %%\" %(100*accuracy_score(y_test, y_pred)))\n",
        "#"
      ],
      "metadata": {
        "colab": {
          "base_uri": "https://localhost:8080/"
        },
        "id": "SrxCyqO9c8CB",
        "outputId": "75c34faf-dd78-4a80-a8a8-67941c09bf99"
      },
      "execution_count": null,
      "outputs": [
        {
          "output_type": "stream",
          "name": "stdout",
          "text": [
            "Accuracy of 7NN (customized weights): 95.38 %\n"
          ]
        }
      ]
    },
    {
      "cell_type": "markdown",
      "source": [
        "#KNN from scratch"
      ],
      "metadata": {
        "id": "mpJSaztjz1cz"
      }
    },
    {
      "cell_type": "markdown",
      "source": [
        "với tập dữu liệu iris flower"
      ],
      "metadata": {
        "id": "1WA8KBEoMFvk"
      }
    },
    {
      "cell_type": "code",
      "source": [
        "import pandas as pd\n",
        "import numpy as np\n",
        "from sklearn.model_selection import train_test_split\n",
        "from sklearn.metrics import accuracy_score\n",
        "from sklearn.datasets import load_iris\n",
        "from scipy import stats\n",
        "import matplotlib.pyplot as plt\n",
        "from time import time # tính toán thời gian thực hiện"
      ],
      "metadata": {
        "id": "cTkrWyY-z8ID"
      },
      "execution_count": 92,
      "outputs": []
    },
    {
      "cell_type": "code",
      "source": [
        "data = load_iris()\n",
        "df = pd.DataFrame(data = data.data, columns= data.feature_names )\n",
        "df.head()"
      ],
      "metadata": {
        "colab": {
          "base_uri": "https://localhost:8080/",
          "height": 206
        },
        "id": "kPEmmE-t02lE",
        "outputId": "61b736a2-8d6c-4ec0-af85-05e0fb1c1a88"
      },
      "execution_count": 93,
      "outputs": [
        {
          "output_type": "execute_result",
          "data": {
            "text/plain": [
              "   sepal length (cm)  sepal width (cm)  petal length (cm)  petal width (cm)\n",
              "0                5.1               3.5                1.4               0.2\n",
              "1                4.9               3.0                1.4               0.2\n",
              "2                4.7               3.2                1.3               0.2\n",
              "3                4.6               3.1                1.5               0.2\n",
              "4                5.0               3.6                1.4               0.2"
            ],
            "text/html": [
              "\n",
              "  <div id=\"df-34412dd6-fee8-406a-baf6-9cbc13b02171\" class=\"colab-df-container\">\n",
              "    <div>\n",
              "<style scoped>\n",
              "    .dataframe tbody tr th:only-of-type {\n",
              "        vertical-align: middle;\n",
              "    }\n",
              "\n",
              "    .dataframe tbody tr th {\n",
              "        vertical-align: top;\n",
              "    }\n",
              "\n",
              "    .dataframe thead th {\n",
              "        text-align: right;\n",
              "    }\n",
              "</style>\n",
              "<table border=\"1\" class=\"dataframe\">\n",
              "  <thead>\n",
              "    <tr style=\"text-align: right;\">\n",
              "      <th></th>\n",
              "      <th>sepal length (cm)</th>\n",
              "      <th>sepal width (cm)</th>\n",
              "      <th>petal length (cm)</th>\n",
              "      <th>petal width (cm)</th>\n",
              "    </tr>\n",
              "  </thead>\n",
              "  <tbody>\n",
              "    <tr>\n",
              "      <th>0</th>\n",
              "      <td>5.1</td>\n",
              "      <td>3.5</td>\n",
              "      <td>1.4</td>\n",
              "      <td>0.2</td>\n",
              "    </tr>\n",
              "    <tr>\n",
              "      <th>1</th>\n",
              "      <td>4.9</td>\n",
              "      <td>3.0</td>\n",
              "      <td>1.4</td>\n",
              "      <td>0.2</td>\n",
              "    </tr>\n",
              "    <tr>\n",
              "      <th>2</th>\n",
              "      <td>4.7</td>\n",
              "      <td>3.2</td>\n",
              "      <td>1.3</td>\n",
              "      <td>0.2</td>\n",
              "    </tr>\n",
              "    <tr>\n",
              "      <th>3</th>\n",
              "      <td>4.6</td>\n",
              "      <td>3.1</td>\n",
              "      <td>1.5</td>\n",
              "      <td>0.2</td>\n",
              "    </tr>\n",
              "    <tr>\n",
              "      <th>4</th>\n",
              "      <td>5.0</td>\n",
              "      <td>3.6</td>\n",
              "      <td>1.4</td>\n",
              "      <td>0.2</td>\n",
              "    </tr>\n",
              "  </tbody>\n",
              "</table>\n",
              "</div>\n",
              "    <div class=\"colab-df-buttons\">\n",
              "\n",
              "  <div class=\"colab-df-container\">\n",
              "    <button class=\"colab-df-convert\" onclick=\"convertToInteractive('df-34412dd6-fee8-406a-baf6-9cbc13b02171')\"\n",
              "            title=\"Convert this dataframe to an interactive table.\"\n",
              "            style=\"display:none;\">\n",
              "\n",
              "  <svg xmlns=\"http://www.w3.org/2000/svg\" height=\"24px\" viewBox=\"0 -960 960 960\">\n",
              "    <path d=\"M120-120v-720h720v720H120Zm60-500h600v-160H180v160Zm220 220h160v-160H400v160Zm0 220h160v-160H400v160ZM180-400h160v-160H180v160Zm440 0h160v-160H620v160ZM180-180h160v-160H180v160Zm440 0h160v-160H620v160Z\"/>\n",
              "  </svg>\n",
              "    </button>\n",
              "\n",
              "  <style>\n",
              "    .colab-df-container {\n",
              "      display:flex;\n",
              "      gap: 12px;\n",
              "    }\n",
              "\n",
              "    .colab-df-convert {\n",
              "      background-color: #E8F0FE;\n",
              "      border: none;\n",
              "      border-radius: 50%;\n",
              "      cursor: pointer;\n",
              "      display: none;\n",
              "      fill: #1967D2;\n",
              "      height: 32px;\n",
              "      padding: 0 0 0 0;\n",
              "      width: 32px;\n",
              "    }\n",
              "\n",
              "    .colab-df-convert:hover {\n",
              "      background-color: #E2EBFA;\n",
              "      box-shadow: 0px 1px 2px rgba(60, 64, 67, 0.3), 0px 1px 3px 1px rgba(60, 64, 67, 0.15);\n",
              "      fill: #174EA6;\n",
              "    }\n",
              "\n",
              "    .colab-df-buttons div {\n",
              "      margin-bottom: 4px;\n",
              "    }\n",
              "\n",
              "    [theme=dark] .colab-df-convert {\n",
              "      background-color: #3B4455;\n",
              "      fill: #D2E3FC;\n",
              "    }\n",
              "\n",
              "    [theme=dark] .colab-df-convert:hover {\n",
              "      background-color: #434B5C;\n",
              "      box-shadow: 0px 1px 3px 1px rgba(0, 0, 0, 0.15);\n",
              "      filter: drop-shadow(0px 1px 2px rgba(0, 0, 0, 0.3));\n",
              "      fill: #FFFFFF;\n",
              "    }\n",
              "  </style>\n",
              "\n",
              "    <script>\n",
              "      const buttonEl =\n",
              "        document.querySelector('#df-34412dd6-fee8-406a-baf6-9cbc13b02171 button.colab-df-convert');\n",
              "      buttonEl.style.display =\n",
              "        google.colab.kernel.accessAllowed ? 'block' : 'none';\n",
              "\n",
              "      async function convertToInteractive(key) {\n",
              "        const element = document.querySelector('#df-34412dd6-fee8-406a-baf6-9cbc13b02171');\n",
              "        const dataTable =\n",
              "          await google.colab.kernel.invokeFunction('convertToInteractive',\n",
              "                                                    [key], {});\n",
              "        if (!dataTable) return;\n",
              "\n",
              "        const docLinkHtml = 'Like what you see? Visit the ' +\n",
              "          '<a target=\"_blank\" href=https://colab.research.google.com/notebooks/data_table.ipynb>data table notebook</a>'\n",
              "          + ' to learn more about interactive tables.';\n",
              "        element.innerHTML = '';\n",
              "        dataTable['output_type'] = 'display_data';\n",
              "        await google.colab.output.renderOutput(dataTable, element);\n",
              "        const docLink = document.createElement('div');\n",
              "        docLink.innerHTML = docLinkHtml;\n",
              "        element.appendChild(docLink);\n",
              "      }\n",
              "    </script>\n",
              "  </div>\n",
              "\n",
              "\n",
              "<div id=\"df-df65df13-e423-4f9f-bdeb-5be86797bc63\">\n",
              "  <button class=\"colab-df-quickchart\" onclick=\"quickchart('df-df65df13-e423-4f9f-bdeb-5be86797bc63')\"\n",
              "            title=\"Suggest charts\"\n",
              "            style=\"display:none;\">\n",
              "\n",
              "<svg xmlns=\"http://www.w3.org/2000/svg\" height=\"24px\"viewBox=\"0 0 24 24\"\n",
              "     width=\"24px\">\n",
              "    <g>\n",
              "        <path d=\"M19 3H5c-1.1 0-2 .9-2 2v14c0 1.1.9 2 2 2h14c1.1 0 2-.9 2-2V5c0-1.1-.9-2-2-2zM9 17H7v-7h2v7zm4 0h-2V7h2v10zm4 0h-2v-4h2v4z\"/>\n",
              "    </g>\n",
              "</svg>\n",
              "  </button>\n",
              "\n",
              "<style>\n",
              "  .colab-df-quickchart {\n",
              "      --bg-color: #E8F0FE;\n",
              "      --fill-color: #1967D2;\n",
              "      --hover-bg-color: #E2EBFA;\n",
              "      --hover-fill-color: #174EA6;\n",
              "      --disabled-fill-color: #AAA;\n",
              "      --disabled-bg-color: #DDD;\n",
              "  }\n",
              "\n",
              "  [theme=dark] .colab-df-quickchart {\n",
              "      --bg-color: #3B4455;\n",
              "      --fill-color: #D2E3FC;\n",
              "      --hover-bg-color: #434B5C;\n",
              "      --hover-fill-color: #FFFFFF;\n",
              "      --disabled-bg-color: #3B4455;\n",
              "      --disabled-fill-color: #666;\n",
              "  }\n",
              "\n",
              "  .colab-df-quickchart {\n",
              "    background-color: var(--bg-color);\n",
              "    border: none;\n",
              "    border-radius: 50%;\n",
              "    cursor: pointer;\n",
              "    display: none;\n",
              "    fill: var(--fill-color);\n",
              "    height: 32px;\n",
              "    padding: 0;\n",
              "    width: 32px;\n",
              "  }\n",
              "\n",
              "  .colab-df-quickchart:hover {\n",
              "    background-color: var(--hover-bg-color);\n",
              "    box-shadow: 0 1px 2px rgba(60, 64, 67, 0.3), 0 1px 3px 1px rgba(60, 64, 67, 0.15);\n",
              "    fill: var(--button-hover-fill-color);\n",
              "  }\n",
              "\n",
              "  .colab-df-quickchart-complete:disabled,\n",
              "  .colab-df-quickchart-complete:disabled:hover {\n",
              "    background-color: var(--disabled-bg-color);\n",
              "    fill: var(--disabled-fill-color);\n",
              "    box-shadow: none;\n",
              "  }\n",
              "\n",
              "  .colab-df-spinner {\n",
              "    border: 2px solid var(--fill-color);\n",
              "    border-color: transparent;\n",
              "    border-bottom-color: var(--fill-color);\n",
              "    animation:\n",
              "      spin 1s steps(1) infinite;\n",
              "  }\n",
              "\n",
              "  @keyframes spin {\n",
              "    0% {\n",
              "      border-color: transparent;\n",
              "      border-bottom-color: var(--fill-color);\n",
              "      border-left-color: var(--fill-color);\n",
              "    }\n",
              "    20% {\n",
              "      border-color: transparent;\n",
              "      border-left-color: var(--fill-color);\n",
              "      border-top-color: var(--fill-color);\n",
              "    }\n",
              "    30% {\n",
              "      border-color: transparent;\n",
              "      border-left-color: var(--fill-color);\n",
              "      border-top-color: var(--fill-color);\n",
              "      border-right-color: var(--fill-color);\n",
              "    }\n",
              "    40% {\n",
              "      border-color: transparent;\n",
              "      border-right-color: var(--fill-color);\n",
              "      border-top-color: var(--fill-color);\n",
              "    }\n",
              "    60% {\n",
              "      border-color: transparent;\n",
              "      border-right-color: var(--fill-color);\n",
              "    }\n",
              "    80% {\n",
              "      border-color: transparent;\n",
              "      border-right-color: var(--fill-color);\n",
              "      border-bottom-color: var(--fill-color);\n",
              "    }\n",
              "    90% {\n",
              "      border-color: transparent;\n",
              "      border-bottom-color: var(--fill-color);\n",
              "    }\n",
              "  }\n",
              "</style>\n",
              "\n",
              "  <script>\n",
              "    async function quickchart(key) {\n",
              "      const quickchartButtonEl =\n",
              "        document.querySelector('#' + key + ' button');\n",
              "      quickchartButtonEl.disabled = true;  // To prevent multiple clicks.\n",
              "      quickchartButtonEl.classList.add('colab-df-spinner');\n",
              "      try {\n",
              "        const charts = await google.colab.kernel.invokeFunction(\n",
              "            'suggestCharts', [key], {});\n",
              "      } catch (error) {\n",
              "        console.error('Error during call to suggestCharts:', error);\n",
              "      }\n",
              "      quickchartButtonEl.classList.remove('colab-df-spinner');\n",
              "      quickchartButtonEl.classList.add('colab-df-quickchart-complete');\n",
              "    }\n",
              "    (() => {\n",
              "      let quickchartButtonEl =\n",
              "        document.querySelector('#df-df65df13-e423-4f9f-bdeb-5be86797bc63 button');\n",
              "      quickchartButtonEl.style.display =\n",
              "        google.colab.kernel.accessAllowed ? 'block' : 'none';\n",
              "    })();\n",
              "  </script>\n",
              "</div>\n",
              "\n",
              "    </div>\n",
              "  </div>\n"
            ],
            "application/vnd.google.colaboratory.intrinsic+json": {
              "type": "dataframe",
              "variable_name": "df",
              "summary": "{\n  \"name\": \"df\",\n  \"rows\": 150,\n  \"fields\": [\n    {\n      \"column\": \"sepal length (cm)\",\n      \"properties\": {\n        \"dtype\": \"number\",\n        \"std\": 0.8280661279778629,\n        \"min\": 4.3,\n        \"max\": 7.9,\n        \"num_unique_values\": 35,\n        \"samples\": [\n          6.2,\n          4.5,\n          5.6\n        ],\n        \"semantic_type\": \"\",\n        \"description\": \"\"\n      }\n    },\n    {\n      \"column\": \"sepal width (cm)\",\n      \"properties\": {\n        \"dtype\": \"number\",\n        \"std\": 0.435866284936698,\n        \"min\": 2.0,\n        \"max\": 4.4,\n        \"num_unique_values\": 23,\n        \"samples\": [\n          2.3,\n          4.0,\n          3.5\n        ],\n        \"semantic_type\": \"\",\n        \"description\": \"\"\n      }\n    },\n    {\n      \"column\": \"petal length (cm)\",\n      \"properties\": {\n        \"dtype\": \"number\",\n        \"std\": 1.7652982332594667,\n        \"min\": 1.0,\n        \"max\": 6.9,\n        \"num_unique_values\": 43,\n        \"samples\": [\n          6.7,\n          3.8,\n          3.7\n        ],\n        \"semantic_type\": \"\",\n        \"description\": \"\"\n      }\n    },\n    {\n      \"column\": \"petal width (cm)\",\n      \"properties\": {\n        \"dtype\": \"number\",\n        \"std\": 0.7622376689603465,\n        \"min\": 0.1,\n        \"max\": 2.5,\n        \"num_unique_values\": 22,\n        \"samples\": [\n          0.2,\n          1.2,\n          1.3\n        ],\n        \"semantic_type\": \"\",\n        \"description\": \"\"\n      }\n    }\n  ]\n}"
            }
          },
          "metadata": {},
          "execution_count": 93
        }
      ]
    },
    {
      "cell_type": "code",
      "source": [
        "X,y = data.data, data.target\n",
        "X_train,X_test,y_train,y_test = train_test_split(X,y, test_size=130,random_state=42)\n",
        "print(X_train.shape[0])\n"
      ],
      "metadata": {
        "colab": {
          "base_uri": "https://localhost:8080/"
        },
        "id": "NyEYGYrp1cN9",
        "outputId": "ededa893-dd73-41db-ce87-e787fee58737"
      },
      "execution_count": 94,
      "outputs": [
        {
          "output_type": "stream",
          "name": "stdout",
          "text": [
            "20\n"
          ]
        }
      ]
    },
    {
      "cell_type": "code",
      "source": [
        "class KNN1():\n",
        "  def __init__(self,k=2, metric = 'euclidean', p=None):\n",
        "    self.k =k\n",
        "    self.metric = metric\n",
        "    self.p = p\n",
        "\n",
        "  def fit(self, X, y):\n",
        "    self.X_train = X\n",
        "    self.y_train = y\n",
        "\n",
        "  def euclidean(self, v1, v2):\n",
        "    return np.sqrt(np.sum((v1-v2)**2))\n",
        "\n",
        "  def manhattan(self, v1, v2):\n",
        "    return np.sum(np.abs(v1-v2))\n",
        "\n",
        "  def predict(self, X_test):\n",
        "    preds = []\n",
        "    for test_row in X_test:\n",
        "      nearest_neighbours = self.get_neighbours(test_row)\n",
        "      majority = stats.mode(nearest_neighbours).mode #tìm 1 giá trị xuất hiện nhiều nhất với đầu vào nearest_neighbours\n",
        "      preds.append(majority)\n",
        "    return preds\n",
        "\n",
        "  def get_neighbours(self, test_row):\n",
        "    dis = list()\n",
        "\n",
        "    for(train_row, train_class) in zip(self.X_train, self.y_train): #zip(self.X_train, self.y_train) ghép 2 thành phần của X_train và y_train thành 1 cặp\n",
        "      if self.metric == 'euclidean':\n",
        "        dist = self.euclidean(train_row, test_row)\n",
        "\n",
        "      elif self.metric == 'manhattan':\n",
        "        dist = self.manhattan(train_row, test_row)\n",
        "\n",
        "      else:\n",
        "        raise NameError('Supported metrics are euclidean, manhattan')\n",
        "\n",
        "      dis.append((dist, train_class))\n",
        "\n",
        "    dis.sort(key=lambda x: x[0]) # sắp xếp lại dis dựa trên thành phần đầu tiên của mỗi phần tử theo thứ tự tăng dần(ở ví dụ này nó là khoảng cách của test_row -> từng điểm trong tập train)\n",
        "    neighbours = list() # neighbours là 1 list k phần tử chứa các loại train_class\n",
        "    for i in range(self.k):\n",
        "      neighbours.append(dis[i][1]) #\n",
        "    return neighbours\n",
        ""
      ],
      "metadata": {
        "id": "_q34AW3m1W3Q"
      },
      "execution_count": 95,
      "outputs": []
    },
    {
      "cell_type": "code",
      "source": [
        "for metric in ['euclidean', 'manhattan']:\n",
        "  clf = KNN1(k=7, metric=metric)\n",
        "  clf.fit(X_train, y_train)\n",
        "  t1 = time()\n",
        "  preds = clf.predict(X_test)\n",
        "  accuracy = accuracy_score(y_test, preds)\n",
        "  print(f'Metric: {metric}, accuracy: {accuracy}, time: {time() -t1}')\n"
      ],
      "metadata": {
        "colab": {
          "base_uri": "https://localhost:8080/"
        },
        "id": "tbEEAARp8QLz",
        "outputId": "c185666e-8b76-45ed-f485-160314ceb89e"
      },
      "execution_count": 96,
      "outputs": [
        {
          "output_type": "stream",
          "name": "stdout",
          "text": [
            "Metric: euclidean, accuracy: 0.9615384615384616, time: 0.21751904487609863\n",
            "Metric: manhattan, accuracy: 0.9538461538461539, time: 0.16148710250854492\n"
          ]
        }
      ]
    },
    {
      "cell_type": "markdown",
      "source": [
        "thử trên tập MNIST"
      ],
      "metadata": {
        "id": "RPfORTz-PNKs"
      }
    },
    {
      "cell_type": "code",
      "source": [
        "class KNN2():\n",
        "  def __init__(self,k=2, metric = 'euclidean', p=None):\n",
        "    self.k =k\n",
        "    self.metric = metric\n",
        "    self.p = p\n",
        "\n",
        "  def fit(self, X, y):\n",
        "    self.X_train = X\n",
        "    self.y_train = y\n",
        "\n",
        "  def euclidean(self, v1, v2):\n",
        "    return np.sqrt(np.sum((v1-v2)**2))\n",
        "\n",
        "  def manhattan(self, v1, v2):\n",
        "    return np.sum(np.abs(v1-v2))\n",
        "\n",
        "  def predict(self, X_test):\n",
        "    preds = []\n",
        "    for test_row in X_test:\n",
        "      nearest_neighbours = self.get_neighbours(test_row)\n",
        "      majority = stats.mode(nearest_neighbours).mode #tìm 1 giá trị xuất hiện nhiều nhất với đầu vào nearest_neighbours\n",
        "      preds.append(majority)\n",
        "    return preds\n",
        "\n",
        "  def get_neighbours(self, test_row):\n",
        "    dis = list()\n",
        "\n",
        "    for(train_row, train_class) in zip(self.X_train, self.y_train): #zip(self.X_train, self.y_train) ghép 2 thành phần của X_train và y_train thành 1 cặp\n",
        "      if self.metric == 'euclidean':\n",
        "        dist = self.euclidean(train_row, test_row)\n",
        "\n",
        "      elif self.metric == 'manhattan':\n",
        "        dist = self.manhattan(train_row, test_row)\n",
        "\n",
        "      else:\n",
        "        raise NameError('Supported metrics are euclidean, manhattan')\n",
        "\n",
        "      dis.append((dist, train_class))\n",
        "\n",
        "    dis.sort(key=lambda x: x[0]) # sắp xếp lại dis dựa trên thành phần đầu tiên của mỗi phần tử theo thứ tự tăng dần(ở ví dụ này nó là khoảng cách của test_row -> từng điểm trong tập train)\n",
        "    neighbours = list() # neighbours là 1 list k phần tử chứa các loại train_class\n",
        "    for i in range(self.k):\n",
        "      neighbours.append(dis[i][1]) #\n",
        "    return neighbours"
      ],
      "metadata": {
        "id": "dPLPRWUUPM0_"
      },
      "execution_count": 99,
      "outputs": []
    },
    {
      "cell_type": "code",
      "source": [
        "from sklearn.datasets import fetch_openml\n",
        "mnist = fetch_openml('mnist_784', version =1, as_frame= False)\n",
        "X,y = mnist.data, mnist.target\n",
        "y = y.astype(int)\n",
        "\n",
        "#X_train, X_test, y_train, y_test = train_test_split(X, y, test_size=0.3, random_state=42)\n",
        "X_train, X_test = X[:8000], X[8000:10000]\n",
        "y_train, y_test = y[:8000], y[8000:10000]\n",
        "clf = KNN2(k=7, metric= 'euclidean')\n",
        "clf.fit(X_train, y_train)\n",
        "t1 = time()\n",
        "preds = clf.predict(X_test)\n",
        "accuracy = accuracy_score(y_test, preds)\n",
        "print(f'accuracy: {accuracy}, time: {time() -t1}')\n",
        "\n"
      ],
      "metadata": {
        "colab": {
          "base_uri": "https://localhost:8080/"
        },
        "id": "fV98A3znMKsj",
        "outputId": "6ec1868d-381d-499c-b25a-990b5126313b"
      },
      "execution_count": 101,
      "outputs": [
        {
          "output_type": "stream",
          "name": "stdout",
          "text": [
            "accuracy: 0.925, time: 261.2455406188965\n"
          ]
        }
      ]
    },
    {
      "cell_type": "markdown",
      "source": [
        "# TỔNG KẾT"
      ],
      "metadata": {
        "id": "48usqEE4jHk5"
      }
    },
    {
      "cell_type": "markdown",
      "source": [
        "ƯU ĐIỂM\n",
        "- độ phức tạp thấp(do tính toán nhiều ở pha huấn luyện)\n",
        "- việc dự đoán kết quả đơn giản khi xác định được các lân cận\n",
        "- KNN ko cần giả sử phân phối của từng nhãn\n",
        "\n",
        "NHƯỢC ĐIỂM\n",
        "- KNN nhạy cảm khi K nhỏ\n",
        "- KNN phần lớn tính toán ở pha kiểm tra.\n",
        "trong đó phần lớn tính toán ở các điểm dữ liệu huấn luyện nên sẽ tốn nhiều thời gian"
      ],
      "metadata": {
        "id": "vZjPVm0ijNGO"
      }
    },
    {
      "cell_type": "markdown",
      "source": [],
      "metadata": {
        "id": "LG-arqe3oJVb"
      }
    }
  ]
}