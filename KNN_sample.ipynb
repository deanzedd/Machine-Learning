{
  "nbformat": 4,
  "nbformat_minor": 0,
  "metadata": {
    "colab": {
      "provenance": [],
      "toc_visible": true,
      "authorship_tag": "ABX9TyN4x1jBxP4WdAu06/qWVUIW",
      "include_colab_link": true
    },
    "kernelspec": {
      "name": "python3",
      "display_name": "Python 3"
    },
    "language_info": {
      "name": "python"
    }
  },
  "cells": [
    {
      "cell_type": "markdown",
      "metadata": {
        "id": "view-in-github",
        "colab_type": "text"
      },
      "source": [
        "<a href=\"https://colab.research.google.com/github/deanzedd/Machine-Learning/blob/main/KNN_sample.ipynb\" target=\"_parent\"><img src=\"https://colab.research.google.com/assets/colab-badge.svg\" alt=\"Open In Colab\"/></a>"
      ]
    },
    {
      "cell_type": "markdown",
      "source": [
        "# khoảng cách điểm dữ liệu"
      ],
      "metadata": {
        "id": "VkYzkZMwiGYK"
      }
    },
    {
      "cell_type": "markdown",
      "source": [
        "code mẫu phần tính khoảng cách các điểm dữ liệu"
      ],
      "metadata": {
        "id": "-gbjpb7atFEO"
      }
    },
    {
      "cell_type": "code",
      "execution_count": null,
      "metadata": {
        "id": "yZzsSUTYVxie"
      },
      "outputs": [],
      "source": [
        "from __future__ import print_function\n",
        "import numpy as np\n",
        "from time import time #for comparing running time\n",
        "d, N=1000, 10000 #dimension and number of training points\n",
        "X=np.random.randn(N,d) #N d-dimensional points\n",
        "z=np.random.randn(d) #d-dimensional vector\n"
      ]
    },
    {
      "cell_type": "code",
      "source": [
        "#naively compute square distance between two vector(point to point)\n",
        "def dist_pp(z,x) :\n",
        "  d = z - x.reshape(z.shape) # force x and z to have the same dims\n",
        "  return np.sum(d*d)\n",
        "\n",
        "## ps = point to set\n",
        "#from one point to each point in a set, naive\n",
        "def dist_ps_naive(z,X) :\n",
        "  N = X.shape[0]\n",
        "  res = np.zeros((1,N))\n",
        "  for i in range(N) :\n",
        "    res[0][i] = dist_pp(z,X[i])\n",
        "  return res\n",
        "\n",
        "# from one point to each point in a set, fast\n",
        "def dist_ps_fast(z,X) :\n",
        "  X2 = np.sum(X*X,1) # square of l2 norm of each X[i], can be precomputed\n",
        "  z2 = np.sum(z*z) # square of l2 norm of z\n",
        "  return X2 + z2 - 2*X.dot(z) # z2 can be ignored\n",
        "\n",
        "t1 = time()\n",
        "D1 = dist_ps_naive(z,X)\n",
        "print('naive point2set, running time:', time() - t1, 's')\n",
        "\n",
        "t1 = time()\n",
        "D2 = dist_ps_fast(z,X)\n",
        "print('fast point2set , running time:', time() - t1, 's')\n",
        "print('Result difference:', np.linalg.norm(D1 - D2))\n",
        "\n"
      ],
      "metadata": {
        "colab": {
          "base_uri": "https://localhost:8080/"
        },
        "id": "3Lis4O2fXAOS",
        "outputId": "6e73941a-de1a-4257-e965-041cf2702d95"
      },
      "execution_count": null,
      "outputs": [
        {
          "output_type": "stream",
          "name": "stdout",
          "text": [
            "naive point2set, running time: 0.16475605964660645 s\n",
            "fast point2set , running time: 0.06168937683105469 s\n",
            "Result difference: 2.3863406147372906e-11\n"
          ]
        }
      ]
    },
    {
      "cell_type": "code",
      "source": [
        "Z=np.random.randn(100,d) #100 d-dimesional points\n",
        "#ss= set to set\n",
        "#from each point in one set to each point in another set, half fast\n",
        "def dist_ss_0(Z,X) :\n",
        "  M,N = Z.shape[0],X.shape[0]\n",
        "  res = np.zeros((M,N))\n",
        "  for i in range(M) :\n",
        "    res[i] = dist_ps_fast(Z[i],X)\n",
        "  return res\n",
        "print(Z.shape) #(100,1000=d)\n",
        "print(X.shape[0]) #10000=N\n",
        "\n",
        "#from each point in one set to each point in another set, fast\n",
        "def dist_ss_fast(Z,X) :\n",
        "  X2 = np.sum(X*X,1) # square of l2 norm of each row of X\n",
        "  Z2 = np.sum(Z*Z,1) # square of l\n",
        "  return Z2.reshape(-1,1) + X2.reshape(1,-1) - 2*Z.dot(X.T)\n",
        "\n",
        "t1 = time()\n",
        "D3 = dist_ss_0(Z,X)\n",
        "print('half fast set2set running time:', time() - t1, 's')\n",
        "t1 = time()\n",
        "D4 = dist_ss_fast(Z,X)\n",
        "print('fast set2set running time:', time() - t1, 's')\n",
        "print('Result difference:', np.linalg.norm(D3 - D4))"
      ],
      "metadata": {
        "colab": {
          "base_uri": "https://localhost:8080/"
        },
        "id": "8YyMMZlag1zr",
        "outputId": "808b7f63-9dd4-489f-b22a-d48775a65956"
      },
      "execution_count": null,
      "outputs": [
        {
          "output_type": "stream",
          "name": "stdout",
          "text": [
            "(100, 1000)\n",
            "10000\n",
            "half fast set2set running time: 6.827006101608276 s\n",
            "fast set2set running time: 0.12366271018981934 s\n",
            "Result difference: 1.008814233156002e-10\n"
          ]
        }
      ]
    },
    {
      "cell_type": "markdown",
      "source": [
        "# IRis flower data set"
      ],
      "metadata": {
        "id": "4jmw1muYvIXQ"
      }
    },
    {
      "cell_type": "code",
      "source": [
        "from __future__ import print_function\n",
        "import numpy as np\n",
        "from sklearn import neighbors, datasets\n",
        "from sklearn.model_selection import train_test_split #for splitting data\n",
        "from sklearn.metrics import accuracy_score #for evaluating results\n",
        "\n",
        "iris = datasets.load_iris()\n",
        "iris_X = iris.data\n",
        "iris_y = iris.target\n",
        "print('Labels:', np.unique(iris_y))\n",
        "\n",
        "# split train and test\n",
        "np.random.seed(7) #7 thêm vào để đảm bảo kết quả chạy(7 có thể thay bằng số bất kì 32 bit)\n",
        "X_train, X_test, y_train, y_test = train_test_split(iris_X, iris_y, test_size=130)\n",
        "\n",
        "print('Train size:', X_train.shape[0], ', test size:', X_test.shape[0])\n"
      ],
      "metadata": {
        "colab": {
          "base_uri": "https://localhost:8080/"
        },
        "id": "k7tqdwAvvZQb",
        "outputId": "8712586e-af88-4e82-cddd-e1393ddeb9e8"
      },
      "execution_count": null,
      "outputs": [
        {
          "output_type": "stream",
          "name": "stdout",
          "text": [
            "Labels: [0 1 2]\n",
            "Train size: 20 , test size: 130\n"
          ]
        }
      ]
    },
    {
      "cell_type": "markdown",
      "source": [
        "*result of 1NN*"
      ],
      "metadata": {
        "id": "45uNVNWeHywT"
      }
    },
    {
      "cell_type": "code",
      "source": [
        "#result of 1NN\n",
        "model = neighbors.KNeighborsClassifier(n_neighbors = 1, p = 2) #K=1,p=2 chính là l2 norm(p=1 là l1 norm)\n",
        "model.fit(X_train, y_train)\n",
        "y_pred = model.predict(X_test)\n",
        "print(\"Accuracy of 1NN: %.2f %%\" %(100*accuracy_score(y_test, y_pred)))"
      ],
      "metadata": {
        "colab": {
          "base_uri": "https://localhost:8080/"
        },
        "id": "tdhMYuBUGnfd",
        "outputId": "675f3d89-30c2-47c7-f7ab-2bfcb1ab18d4"
      },
      "execution_count": null,
      "outputs": [
        {
          "output_type": "stream",
          "name": "stdout",
          "text": [
            "Accuracy of 1NN: 92.31 %\n"
          ]
        }
      ]
    },
    {
      "cell_type": "markdown",
      "source": [
        "*result of 7NN*"
      ],
      "metadata": {
        "id": "2BVjfLNUH6RN"
      }
    },
    {
      "cell_type": "code",
      "source": [
        "model = neighbors.KNeighborsClassifier(n_neighbors= 7, p = 2)\n",
        "model.fit(X_train, y_train)\n",
        "y_pred = model.predict(X_test)\n",
        "\n",
        "print(\"Accuracy of 7NN with major voting: %.2f %%\" %(100*accuracy_score(y_test, y_pred)))"
      ],
      "metadata": {
        "colab": {
          "base_uri": "https://localhost:8080/"
        },
        "id": "FtPN0dzUHl4I",
        "outputId": "2338d82a-9e0d-4cec-db13-3bca645a8ceb"
      },
      "execution_count": null,
      "outputs": [
        {
          "output_type": "stream",
          "name": "stdout",
          "text": [
            "Accuracy of 7NN with major voting: 93.85 %\n"
          ]
        }
      ]
    },
    {
      "cell_type": "markdown",
      "source": [
        "*đánh trọng số điểm lân cận*\n",
        "\n",
        "điểm càng gần thì càng tốt-> trọng số cao\n",
        "weights = ’distance’\n",
        "\n",
        "weights là ’uniform’ (default)\n"
      ],
      "metadata": {
        "id": "4ntw6bb7cJtS"
      }
    },
    {
      "cell_type": "code",
      "source": [
        "model = neighbors.KNeighborsClassifier(n_neighbors= 7, p=2, weights='distance')\n",
        "model.fit(X_train, y_train)\n",
        "y_pred = model.predict(X_test)\n",
        "\n",
        "print(\"Accuracy of 7NN (1/distance weights): %.2f %%\" %(100*accuracy_score(y_test, y_pred)))"
      ],
      "metadata": {
        "colab": {
          "base_uri": "https://localhost:8080/"
        },
        "id": "EMZOaUKONbC6",
        "outputId": "5cdbbfd0-3790-463b-fe07-d1ad097c1296"
      },
      "execution_count": null,
      "outputs": [
        {
          "output_type": "stream",
          "name": "stdout",
          "text": [
            "Accuracy of 7NN (1/distance weights): 94.62 %\n"
          ]
        }
      ]
    },
    {
      "cell_type": "markdown",
      "source": [
        "*KNN tự định nghĩa*"
      ],
      "metadata": {
        "id": "LSgGKlYCcRG5"
      }
    },
    {
      "cell_type": "code",
      "source": [
        "def myweight(distances) :\n",
        "  sigma2 = .4 # we can change this number\n",
        "  return np.exp(-distances**2/sigma2)\n",
        "\n",
        "model = neighbors.KNeighborsClassifier(n_neighbors= 7, p=2, weights=myweight)\n",
        "model.fit(X_train, y_train)\n",
        "y_pred = model.predict(X_test)\n",
        "\n",
        "print(\"Accuracy of 7NN (customized weights): %.2f %%\" %(100*accuracy_score(y_test, y_pred)))\n",
        "#"
      ],
      "metadata": {
        "colab": {
          "base_uri": "https://localhost:8080/"
        },
        "id": "SrxCyqO9c8CB",
        "outputId": "75c34faf-dd78-4a80-a8a8-67941c09bf99"
      },
      "execution_count": null,
      "outputs": [
        {
          "output_type": "stream",
          "name": "stdout",
          "text": [
            "Accuracy of 7NN (customized weights): 95.38 %\n"
          ]
        }
      ]
    },
    {
      "cell_type": "markdown",
      "source": [
        "# TỔNG KẾT"
      ],
      "metadata": {
        "id": "48usqEE4jHk5"
      }
    },
    {
      "cell_type": "markdown",
      "source": [
        "ƯU ĐIỂM\n",
        "- độ phức tạp thấp(do tính toán nhiều ở pha huấn luyện)\n",
        "- việc dự đoán kết quả đơn giản khi xác định được các lân cận\n",
        "- KNN ko cần giả sử phân phối của từng nhãn\n",
        "\n",
        "NHƯỢC ĐIỂM\n",
        "- KNN nhạy cảm khi K nhỏ\n",
        "- KNN phần lớn tính toán ở pha kiểm tra.\n",
        "trong đó phần lớn tính toán ở các điểm dữ liệu huấn luyện nên sẽ tốn nhiều thời gian"
      ],
      "metadata": {
        "id": "vZjPVm0ijNGO"
      }
    },
    {
      "cell_type": "markdown",
      "source": [],
      "metadata": {
        "id": "LG-arqe3oJVb"
      }
    }
  ]
}