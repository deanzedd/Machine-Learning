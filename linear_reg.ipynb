{
  "nbformat": 4,
  "nbformat_minor": 0,
  "metadata": {
    "colab": {
      "provenance": [],
      "gpuType": "T4",
      "authorship_tag": "ABX9TyPwgdLyPOLIp1/Mgf5ZN4x2",
      "include_colab_link": true
    },
    "kernelspec": {
      "name": "python3",
      "display_name": "Python 3"
    },
    "language_info": {
      "name": "python"
    }
  },
  "cells": [
    {
      "cell_type": "markdown",
      "metadata": {
        "id": "view-in-github",
        "colab_type": "text"
      },
      "source": [
        "<a href=\"https://colab.research.google.com/github/deanzedd/Machine-Learning/blob/main/linear_reg.ipynb\" target=\"_parent\"><img src=\"https://colab.research.google.com/assets/colab-badge.svg\" alt=\"Open In Colab\"/></a>"
      ]
    },
    {
      "cell_type": "markdown",
      "source": [
        "# Mục mới"
      ],
      "metadata": {
        "id": "Brr6-ph5T_aj"
      }
    },
    {
      "cell_type": "markdown",
      "source": [
        "import goi vao backend"
      ],
      "metadata": {
        "id": "U9rgU8M3uLjV"
      }
    },
    {
      "cell_type": "code",
      "source": [
        "!ls"
      ],
      "metadata": {
        "colab": {
          "base_uri": "https://localhost:8080/"
        },
        "id": "MmhuYLO0uLES",
        "outputId": "a91eb1f7-7a0c-43c5-a01f-531670307f74"
      },
      "execution_count": null,
      "outputs": [
        {
          "output_type": "stream",
          "name": "stdout",
          "text": [
            "sample_data\n"
          ]
        }
      ]
    },
    {
      "cell_type": "code",
      "source": [
        "!pwd"
      ],
      "metadata": {
        "colab": {
          "base_uri": "https://localhost:8080/"
        },
        "id": "wr-xvFQPuhR2",
        "outputId": "b07162a9-0895-4d53-f507-3ccec643fabe"
      },
      "execution_count": null,
      "outputs": [
        {
          "output_type": "stream",
          "name": "stdout",
          "text": [
            "/content\n"
          ]
        }
      ]
    },
    {
      "cell_type": "code",
      "source": [
        "!pip freeze | grep matplotlib"
      ],
      "metadata": {
        "colab": {
          "base_uri": "https://localhost:8080/"
        },
        "id": "eIc8S5Lvus_m",
        "outputId": "67a7b5f2-500a-40ba-b285-2be108a6aaa0"
      },
      "execution_count": null,
      "outputs": [
        {
          "output_type": "stream",
          "name": "stdout",
          "text": [
            "matplotlib==3.8.0\n",
            "matplotlib-inline==0.1.7\n",
            "matplotlib-venn==1.1.1\n"
          ]
        }
      ]
    },
    {
      "cell_type": "markdown",
      "source": [
        "khai báo giữu liệu"
      ],
      "metadata": {
        "id": "RPtCZalfsShM"
      }
    },
    {
      "cell_type": "code",
      "execution_count": null,
      "metadata": {
        "id": "t_XfbDwmrRVE"
      },
      "outputs": [],
      "source": [
        "from __future__ import print_function\n",
        "import numpy as np\n",
        "import matplotlib.pyplot as plt\n",
        "X = np.array([[147,150,153,158,163,165,168]]).T\n",
        "y = np.array([49,50,51,54,58,59,69])"
      ]
    },
    {
      "cell_type": "markdown",
      "source": [],
      "metadata": {
        "id": "Kf3-6z5rsRdd"
      }
    },
    {
      "cell_type": "code",
      "source": [
        "#building Xbar\n",
        "one = np.ones((X.shape[0], 1))\n",
        "Xbar = np.concatenate((one, X), axis=1) #each row is one data point\n",
        "\n",
        "# cal weights of the linear regression model\n",
        "A = np.dot(Xbar.T, Xbar)\n",
        "b = np.dot(Xbar.T, y)\n",
        "w = np.dot(np.linalg.pinv(A), b)\n",
        "#weight\n",
        "w_0, w_1 = w[0], w[1]\n",
        "\n",
        "y1 = w_1 * 155 + w_0\n",
        "y2 = w_1 * 160 + w_0\n",
        "\n",
        "print(f'Predict weight of person with height 155cm: {y1}')\n",
        "print(f'Predict weight of person with height 160cm: {y2}')\n",
        "print('w = ', w)\n",
        "plt.show()"
      ],
      "metadata": {
        "colab": {
          "base_uri": "https://localhost:8080/"
        },
        "id": "JWhFl0EbsgTm",
        "outputId": "65df3a16-b1c2-43a6-96ac-ec2a889a67a8"
      },
      "execution_count": null,
      "outputs": [
        {
          "output_type": "stream",
          "name": "stdout",
          "text": [
            "Predict weight of person with height 155cm: 53.51676602087143\n",
            "Predict weight of person with height 160cm: 57.564828614007524\n",
            "w =  [-71.97317437   0.80961252]\n"
          ]
        }
      ]
    },
    {
      "cell_type": "code",
      "source": [
        "from sklearn import datasets, linear_model\n",
        "import numpy as np\n",
        "import matplotlib.pyplot as plt\n",
        "\n",
        "#fit the model by linear regression\n",
        "regr = linear_model.LinearRegression()\n",
        "regr.fit(X, y) #in scikit-learn, each sample is one row\n",
        "print(\"scikit-learn's solution: w_1\", regr.coef_[0], \"w_0 = \", regr.intercept_)\n",
        "print(\"Our solution: w_1 = \", w[1], \"w_0 = \", w[0])\n",
        "#Compare with scikit-learn's solution"
      ],
      "metadata": {
        "colab": {
          "base_uri": "https://localhost:8080/"
        },
        "id": "0DefAXq4r4D5",
        "outputId": "e28bdba9-5eda-4b59-e2fe-d96aa8a97cf8"
      },
      "execution_count": null,
      "outputs": [
        {
          "output_type": "stream",
          "name": "stdout",
          "text": [
            "scikit-learn's solution: w_1 0.8096125186289121 w_0 =  -71.973174366617\n",
            "Our solution: w_1 =  0.8096125186272164 w_0 =  -71.97317436634711\n"
          ]
        }
      ]
    }
  ]
}