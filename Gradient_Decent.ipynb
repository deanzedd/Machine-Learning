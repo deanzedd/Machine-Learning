{
  "nbformat": 4,
  "nbformat_minor": 0,
  "metadata": {
    "colab": {
      "provenance": [],
      "authorship_tag": "ABX9TyPzA0548fckeJbqTaRLG7c2",
      "include_colab_link": true
    },
    "kernelspec": {
      "name": "python3",
      "display_name": "Python 3"
    },
    "language_info": {
      "name": "python"
    }
  },
  "cells": [
    {
      "cell_type": "markdown",
      "metadata": {
        "id": "view-in-github",
        "colab_type": "text"
      },
      "source": [
        "<a href=\"https://colab.research.google.com/github/deanzedd/Machine-Learning/blob/main/Gradient_Decent.ipynb\" target=\"_parent\"><img src=\"https://colab.research.google.com/assets/colab-badge.svg\" alt=\"Open In Colab\"/></a>"
      ]
    },
    {
      "cell_type": "markdown",
      "source": [
        "#vdu về 1 biến"
      ],
      "metadata": {
        "id": "XDSG52VIdFi2"
      }
    },
    {
      "cell_type": "markdown",
      "source": [
        "*Ví dụ đơn giản về hàm 1 biến*"
      ],
      "metadata": {
        "id": "VWQxmOiEbUIV"
      }
    },
    {
      "cell_type": "markdown",
      "source": [],
      "metadata": {
        "id": "BGceCoLdcRdv"
      }
    },
    {
      "cell_type": "code",
      "source": [
        "import numpy as np\n",
        "np.random.seed(3)"
      ],
      "metadata": {
        "id": "fWUpBfOuhZgk"
      },
      "execution_count": null,
      "outputs": []
    },
    {
      "cell_type": "code",
      "execution_count": null,
      "metadata": {
        "id": "zMtf0F3vbQAh"
      },
      "outputs": [],
      "source": [
        "def grad(x):\n",
        "  return 2*x +5*np.cos(x)\n",
        "\n",
        "def cost(x) :\n",
        "  return x**2 + 5*np.sin(x)\n",
        "\n",
        "def myGD1(x0,eta):\n",
        "  x=[x0]\n",
        "  for it in range(100):\n",
        "    x_new=x[-1] -eta*grad(x[-1])\n",
        "    if abs(grad(x_new)) < 1e-3:\n",
        "      break\n",
        "    x.append(x_new)\n",
        "  return (x,it)"
      ]
    },
    {
      "cell_type": "code",
      "source": [
        "import numpy as np\n",
        "(x1,it1)=myGD1(-5,0.1)\n",
        "(x2,it2)=myGD1(5,0.1)\n",
        "print('Solution x1 = %f, cost = %f, after %d iterations'%(x1[-1],cost(x1[-1]),it1))\n",
        "print('Solution x2 = %f, cost = %f, after %d iterations'%(x2[-1],cost(x2[-1]),it2))"
      ],
      "metadata": {
        "colab": {
          "base_uri": "https://localhost:8080/"
        },
        "id": "n1Lr-S-WcG3A",
        "outputId": "05aab4b4-0c55-4fc3-c4a5-ff1870c2f7e3"
      },
      "execution_count": null,
      "outputs": [
        {
          "output_type": "stream",
          "name": "stdout",
          "text": [
            "Solution x1 = -1.110667, cost = -3.246394, after 11 iterations\n",
            "Solution x2 = -1.110341, cost = -3.246394, after 29 iterations\n"
          ]
        }
      ]
    },
    {
      "cell_type": "markdown",
      "source": [
        "điểm tọa độ 5 di chuyển khó khăn hơn vì có 1 điểm xấp xỉ tọa độ 2.5 có slope gần bằng 0"
      ],
      "metadata": {
        "id": "8Sm11dv3domn"
      }
    },
    {
      "cell_type": "markdown",
      "source": [
        "#GD với nhiều biến"
      ],
      "metadata": {
        "id": "2DqzPYhAgGv_"
      }
    },
    {
      "cell_type": "code",
      "source": [
        "from sklearn.linear_model import LinearRegression\n",
        "import matplotlib.pyplot as plt\n",
        "import numpy as np\n",
        "np.random.seed(3)\n",
        "X = np.random.rand(1000)\n",
        "y = 4 + 3 * X + .2*np.random.randn(1000) #noise added\n",
        "model = LinearRegression()\n",
        "model.fit(X.reshape(-1,1),y.reshape(-1,1)) #biến X,y thành vector 1 cột duy nhất\n",
        "W,b = model.coef_,model.intercept_\n",
        "sol_sklearn = [W[0][0],b[0]] #dùng [W[0][0],b[0]] cho đẹp\n",
        "print(sol_sklearn)\n",
        "x=np.linspace(0,1,100)\n",
        "y_pred=W[0][0]*x+b[0]\n",
        "\n",
        "\n",
        "plt.scatter(X, y, label=\"Điểm dữ liệu\") # Vẽ điểm dữ liệu\n",
        "plt.plot(x, y_pred, color='red', label=\"Đường hồi quy\") # Vẽ đường hồi quy\n",
        "\n",
        "# 5. Thiết lập các thông tin cho đồ thị\n",
        "plt.xlabel(\"X\")\n",
        "plt.ylabel(\"y\")\n",
        "plt.title(\"Mô hình hồi quy tuyến tính\")\n",
        "plt.legend()\n",
        "plt.grid(True) # Hiển thị lưới\n",
        "\n",
        "# 6. Hiển thị đồ thị\n",
        "plt.show()\n",
        "\n",
        "\n"
      ],
      "metadata": {
        "colab": {
          "base_uri": "https://localhost:8080/",
          "height": 490
        },
        "id": "goIcX7JGgKfS",
        "outputId": "2b646da7-4a33-4bb6-d747-4b9948a865a1"
      },
      "execution_count": null,
      "outputs": [
        {
          "output_type": "stream",
          "name": "stdout",
          "text": [
            "[3.0265274894628487, 3.9745254689434404]\n"
          ]
        },
        {
          "output_type": "display_data",
          "data": {
            "text/plain": [
              "<Figure size 640x480 with 1 Axes>"
            ],
            "image/png": "[encoded data removed]"
          },
          "metadata": {}
        }
      ]
    },
    {
      "cell_type": "markdown",
      "source": [
        "với linear reg"
      ],
      "metadata": {
        "id": "czVPJ1AoyY6o"
      }
    },
    {
      "cell_type": "code",
      "source": [
        "def grad(w):\n",
        "  N = Xbar.shape[0]\n",
        "  return 1/N*Xbar.T.dot(Xbar.dot(w)-y)\n",
        "  #Xbar là ma trận đầu vào,\n",
        "  #.dot() là phép nhân ma trận\n",
        "  #.T là chuyển vị ma trận\n",
        "\n",
        "#maybe gọi là hàm lost\n",
        "def cost(w):\n",
        "  N = Xbar.shape[0]\n",
        "  return .5/N*np.linalg.norm(y-Xbar.T.dot(w))**2\n",
        "  #np.linalg.norm(y-Xbar.T.dot(w)) là tính l2 norm\n",
        "  #**2 kia để mũ 2 l2 norm"
      ],
      "metadata": {
        "id": "y31Gr2cNiKO8"
      },
      "execution_count": null,
      "outputs": []
    },
    {
      "cell_type": "code",
      "source": [
        "def myGD(w_init, grad, eta) :\n",
        "  w = [w_init]\n",
        "  for it in range(100):\n",
        "    w_new = w[-1] - eta*grad(w[-1])\n",
        "    if np.linalg.norm(grad(w_new))/len(w_new) < 1e-3:\n",
        "      break\n",
        "    w.append(w_new)\n",
        "  return w,it"
      ],
      "metadata": {
        "id": "iu-9ZoyqqBan"
      },
      "execution_count": null,
      "outputs": []
    },
    {
      "cell_type": "code",
      "source": [
        "one = np.ones((X.shape[0],1))\n",
        "Xbar = np.concatenate((one,X.reshape(-1,1)),axis=1)\n",
        "w_init = np.array([[2],[1]])\n",
        "w1,it1=myGD(w_init,grad,1)\n",
        "print('Sol found by GD :w=',w1[-1].T,'after %d iterations.' %(it1+1))"
      ],
      "metadata": {
        "colab": {
          "base_uri": "https://localhost:8080/"
        },
        "id": "BaNWkdipqIOX",
        "outputId": "d3753165-a0cf-4f26-9aa5-03b7bf0ced9c"
      },
      "execution_count": null,
      "outputs": [
        {
          "output_type": "stream",
          "name": "stdout",
          "text": [
            "Sol found by GD :w= [[5.46409154e+00 3.18565657e-03]\n",
            " [5.87451942e+00 3.43146990e-03]\n",
            " [5.00272846e+00 2.90933716e-03]\n",
            " ...\n",
            " [5.14087102e+00 2.99207345e-03]\n",
            " [3.98546838e+00 2.30008011e-03]\n",
            " [4.22857955e+00 2.44568416e-03]] after 100 iterations.\n"
          ]
        }
      ]
    },
    {
      "cell_type": "markdown",
      "source": [
        "#GD với momentum"
      ],
      "metadata": {
        "id": "x4ND7uZl8gaM"
      }
    },
    {
      "cell_type": "markdown",
      "source": [
        "**Ý tưởng**:xuất phát từ vật lý thêm momen vào vector vận tốc giúp vượt local minum"
      ],
      "metadata": {
        "id": "i7tw3Ajb_Oq6"
      }
    },
    {
      "cell_type": "code",
      "source": [
        "def GD_momentum(grad, theta_init, eta, gamma) :\n",
        "  #suppose we want to store history of theta\n",
        "  theta=[theta_init]\n",
        "  v_old= np.zeros_like(theta_init)\n",
        "  for it in range(100):\n",
        "    v_new=gamma*v_old + eta*grad(theta[-1])\n",
        "    theta_new = theta[-1] - v_new\n",
        "    if np.linalg.norm(grad(theta_new))/len(theta_new) < 1e-3:\n",
        "      break\n",
        "    theta.append(theta_new)\n",
        "    v_old=v_new\n",
        "  return theta,it"
      ],
      "metadata": {
        "id": "MpNeKLZ38kaA"
      },
      "execution_count": null,
      "outputs": []
    },
    {
      "cell_type": "code",
      "source": [
        "theta1,it1=GD_momentum(grad,w_init,1,0.9)\n",
        "print('Sol found by GD :w=',theta1[-1].T,'after %d iterations.' %(it1+1))"
      ],
      "metadata": {
        "colab": {
          "base_uri": "https://localhost:8080/"
        },
        "id": "R7X69j4h-257",
        "outputId": "cf2a0bbe-ea7a-4827-b0ef-a837635922ea"
      },
      "execution_count": null,
      "outputs": [
        {
          "output_type": "stream",
          "name": "stdout",
          "text": [
            "Sol found by GD :w= [[5.46187068 0.01250702]\n",
            " [5.87226435 0.01354603]\n",
            " [5.00054607 0.01133906]\n",
            " ...\n",
            " [5.13867711 0.01168877]\n",
            " [3.98337081 0.00876384]\n",
            " [4.22646171 0.00937928]] after 100 iterations.\n"
          ]
        }
      ]
    },
    {
      "cell_type": "markdown",
      "source": [
        "#Nesterov Accelrated Gradient(NAG)"
      ],
      "metadata": {
        "id": "hoIVcy_-AIaF"
      }
    },
    {
      "cell_type": "markdown",
      "source": [
        "Ý tưởng: momentum tốt khi vượt local minum NHƯNG khi đến gần no tối ưu thì hàm lắc lư lâu hội tụ -> Nester\n",
        "\n",
        "khi cập nhật θ mới thì ta dùng gradient ở điểm θ mới luon  "
      ],
      "metadata": {
        "id": "xUyNv1iVAQLV"
      }
    },
    {
      "cell_type": "code",
      "source": [
        "def GD_NAG(grad, theta_init, eta, gamma) :\n",
        "  #suppose we want to store history of theta\n",
        "  theta=[theta_init]\n",
        "  v= [np.zeros_like(theta_init)]\n",
        "  for it in range(100):\n",
        "    v_new=gamma*v[-1] + eta*grad(theta[-1]-gamma*v[-1])\n",
        "    theta_new = theta[-1] - v_new\n",
        "    if np.linalg.norm(grad(theta_new))/len(theta_new) < 1e-3:\n",
        "      break\n",
        "    theta.append(theta_new)\n",
        "    v.append(v_new)\n",
        "  return theta,it"
      ],
      "metadata": {
        "id": "KLhg1bp7_BlW"
      },
      "execution_count": null,
      "outputs": []
    },
    {
      "cell_type": "code",
      "source": [
        "theta1,it1=GD_NAG(grad,w_init,1,0.9)\n",
        "print('Sol found by GD :w=',theta1[-1].T,'after %d iterations.' %(it1+1))"
      ],
      "metadata": {
        "colab": {
          "base_uri": "https://localhost:8080/"
        },
        "id": "J5Y85i11B1D3",
        "outputId": "58e32c9a-107d-4b0c-910c-3c52faeb02bb"
      },
      "execution_count": null,
      "outputs": [
        {
          "output_type": "stream",
          "name": "stdout",
          "text": [
            "Sol found by GD :w= [[ 5.46679004e+00 -1.81738769e-03]\n",
            " [ 5.87742622e+00 -1.95758706e-03]\n",
            " [ 5.00519283e+00 -1.65978922e-03]\n",
            " ...\n",
            " [ 5.14340549e+00 -1.70697777e-03]\n",
            " [ 3.98741650e+00 -1.31230012e-03]\n",
            " [ 4.23065105e+00 -1.39534523e-03]] after 70 iterations.\n"
          ]
        }
      ]
    },
    {
      "cell_type": "markdown",
      "source": [
        "KẾt quả thấy giảm 30 lần chạy\n"
      ],
      "metadata": {
        "id": "3aIQNsKlB-bp"
      }
    },
    {
      "cell_type": "markdown",
      "source": [
        "#Stochastic Gradient Decent(SGD)"
      ],
      "metadata": {
        "id": "JB3_hFL3Co0r"
      }
    },
    {
      "cell_type": "markdown",
      "source": [
        "Ở trên khi tối ưu hàm loss thì ta dùng toàn bộ dữ liệu khi algo mình dùng là Batch Gradient Descent(BGD) -> chi phí tính toán lớn\n",
        "\n",
        "Có 1 cách đơn giản, use single random sample hoặc 1 mini-batch\n",
        "\n",
        "Khi đó iteration SGD > BGD\n",
        "và path của SGD nghe vẻ nh noise hơn\n",
        "\n",
        "nhưng overrall: thời gian chạy SGD tối ưu hơn"
      ],
      "metadata": {
        "id": "1A45Ej3H_NNx"
      }
    },
    {
      "cell_type": "markdown",
      "source": [
        "do đó SGD phù hợp cho large data và online learning"
      ],
      "metadata": {
        "id": "iix2lzrjAfgh"
      }
    },
    {
      "cell_type": "code",
      "source": [
        "import numpy as np\n",
        "\n",
        "class SGD:\n",
        "  def __init__(self, lr=0.01, epochs=1000, batch_size=32, tol=1e-3):\n",
        "    self.learning_rate = lr\n",
        "    self.epochs = epochs\n",
        "    self.batch_size = batch_size\n",
        "    self.tolerance = tol\n",
        "    self.weights = None\n",
        "    self.bias = None\n",
        "    np.random.seed(3)\n",
        "    #thêm np.random.seed() nếu muốn cố định\n",
        "\n",
        "  def predict(self, X) :\n",
        "    return np.dot(X, self.weights) + self.bias\n",
        "\n",
        "  def mean_squared_error(self, y_true, y_pred) :\n",
        "    return np.mean((y_true-y_pred)**2)\n",
        "\n",
        "  def gradient(self, X_batch, y_batch):\n",
        "    y_pred = self.predict(X_batch)\n",
        "    error = -y_batch + y_pred\n",
        "    gradient_w = np.dot(X_batch.T, error)/X_batch.shape[0]\n",
        "    gradient_b = np.mean(error)\n",
        "    return gradient_w, gradient_b\n",
        "\n",
        "  def fit(self, X, y):\n",
        "    n_samples, n_features = X.shape #là 1 tuple, [0] là chỉ số lượng dữ lieu, [1] là thuộc tính\n",
        "\n",
        "    self.weights = np.random.randn(n_features)\n",
        "    print(self.weights)\n",
        "    self.bias = np.random.randn()\n",
        "    print(self.bias)\n",
        "\n",
        "    for epoch in range(self.epochs):\n",
        "      #tạo ra 1 mảng số nguyên từ 0 -> n_samples và sắp xếp ngẫu nhiên\n",
        "      indices = np.random.permutation(n_samples)\n",
        "      X_shuffled = X[indices]\n",
        "\n",
        "      y_shuffled = y[indices]\n",
        "\n",
        "      for i in range(0, n_samples, self.batch_size):\n",
        "        X_batch = X_shuffled[i:i+self.batch_size]# lấy chỉ số từ i -> i +self.batch_size-1\n",
        "        y_batch = y_shuffled[i:i+self.batch_size]\n",
        "\n",
        "        gradient_w, gradient_b = self.gradient(X_batch, y_batch)\n",
        "        self.weights -= self.learning_rate * gradient_w\n",
        "        self.bias -= self.learning_rate * gradient_b\n",
        "\n",
        "      if epoch%100 == 0:\n",
        "        y_pred = self.predict(X)\n",
        "        loss = self.mean_squared_error(y,y_pred)\n",
        "        print(f\"Epoch {epoch}: Loss = {loss}\")\n",
        "\n",
        "      if np.linalg.norm(gradient_w) < self.tolerance:\n",
        "        print(\"converged\")\n",
        "        print(self.weights)\n",
        "        break\n",
        "    return self.weights, self.bias\n"
      ],
      "metadata": {
        "id": "mPXoWpMmCyZi"
      },
      "execution_count": null,
      "outputs": []
    },
    {
      "cell_type": "code",
      "source": [
        "# Create random dataset with 100 rows and 5 columns\n",
        "X =np.random.randn(100,5)\n",
        "# create corresponding target value by adding random\n",
        "# noise in the dataset\n",
        "y = np.dot(X,np.array([1,2,3,4,5]))+np.random.randn(100)*0.1\n",
        "# Create an instance of the SGD class\n",
        "model = SGD(lr=0.01, epochs=5000, batch_size=32, tol=1e-2)\n",
        "w,b=model.fit(X,y)\n",
        "\n",
        "y_pred = w*X +b"
      ],
      "metadata": {
        "colab": {
          "base_uri": "https://localhost:8080/"
        },
        "id": "Yi9EFdh-Dauk",
        "outputId": "b8ffb2a4-809e-4135-c13a-5ce42aa51460"
      },
      "execution_count": null,
      "outputs": [
        {
          "output_type": "stream",
          "name": "stdout",
          "text": [
            "[ 1.78862847  0.43650985  0.09649747 -1.8634927  -0.2773882 ]\n",
            "-0.35475897926898675\n",
            "Epoch 0: Loss = 73.82868392119856\n",
            "Epoch 100: Loss = 0.09209588753823769\n",
            "Epoch 200: Loss = 0.010568928422437365\n",
            "Epoch 300: Loss = 0.009920273329187405\n",
            "Epoch 400: Loss = 0.009905107568289478\n",
            "Epoch 500: Loss = 0.009914084200451707\n",
            "Epoch 600: Loss = 0.009897187650943889\n",
            "Epoch 700: Loss = 0.00988729184166806\n",
            "Epoch 800: Loss = 0.009893428864063948\n",
            "Epoch 900: Loss = 0.00989134341772625\n",
            "converged\n",
            "[1.01758184 1.99057735 3.00169287 4.00523526 4.98444548]\n"
          ]
        }
      ]
    },
    {
      "cell_type": "markdown",
      "source": [
        "**EPOCH**\n",
        "\n",
        "1 epoch là 1 chu kỳ duyệt toàn bộ dữ liệu\n",
        "\n",
        "trong 1 epoch ta có thể chia ra thành nhiều mini-batch với batch_size = k\n",
        "\n",
        "Kết thúc một mini-batch ta sẽ cập nhật hệ số 1 lần\n",
        "\n",
        "Nếu có N điểm dữ liệu -> có N/k mini-batch -> N/k lần cập nhật hệ số\n",
        "\n",
        "bth batch_size sẽ là 2 mũ ?\n",
        "\n",
        "BTH ta sẽ phải duyệt qua nhiều epoch để cập nhật hệ số mới cho bài toán tối ưu\n",
        "\n",
        "**VD** Giả sử bạn có một tập dữ liệu huấn luyện gồm 1000 mẫu và bạn sử dụng kích thước mini-batch là 100. Điều này có nghĩa là mỗi epoch sẽ bao gồm 10 lần cập nhật trọng số (1000 mẫu / 100 mẫu mỗi mini-batch = 10). Nếu bạn huấn luyện mô hình trong 10 epoch, mô hình sẽ thực hiện tổng cộng 100 lần cập nhật trọng số.\n"
      ],
      "metadata": {
        "id": "ry9yVZUbYbzk"
      }
    },
    {
      "cell_type": "markdown",
      "source": [
        "**BATCH SIZE** là 1 siêu tham số ảnh hưởng đến\n",
        "\n",
        "- tốc độ hội tụ của bt\n",
        "\n",
        "- khả năng khái quát hóa nếu batch nhỏ thì dễ overfitting còn to quá dễ underfitting\n",
        "\n",
        "ta nên chọn batch size là lũy thừa của 2 để tính nhanh"
      ],
      "metadata": {
        "id": "8EgP4Nyzb7vQ"
      }
    },
    {
      "cell_type": "markdown",
      "source": [
        "*ƯU điểm*:\n",
        "\n",
        "**NHANH,lưu chữ bộ nhớ hiệu quả**: do mỗi vòng lặp ta chỉ lấy 1 data\n",
        "\n",
        "\n",
        "\n",
        "\n",
        "\n"
      ],
      "metadata": {
        "id": "HmLqMGR5Ak1a"
      }
    },
    {
      "cell_type": "markdown",
      "source": [
        "*NHƯỢC điểm*:\n",
        "\n",
        "**noisy update**: có phương sai cao do bốc điểm dữ liệu bất kì\n",
        "\n",
        "**Slow Convergence**: yêu cầu nh vòng lặp\n",
        "\n",
        "**Sensitivity to Learning Rate**\n",
        "\n",
        "**Less Accurate**: bởi vì noisy update, SGD maybe ko hội tụ đến chính xác global minium"
      ],
      "metadata": {
        "id": "-GLkzh8pBwPd"
      }
    },
    {
      "cell_type": "markdown",
      "source": [
        "**NGUỒN THAM KHẢO**\n",
        "\n",
        "https://www.geeksforgeeks.org/ml-stochastic-gradient-descent-sgd/\n",
        "\n",
        "sách ML cơ bản\n",
        "\n",
        "https://www.youtube.com/watch?v=K20lVDVjPn4\n",
        "\n",
        "https://www.youtube.com/watch?v=SftOqbMrGfE\n"
      ],
      "metadata": {
        "id": "ToiCxRf_LM7E"
      }
    },
    {
      "cell_type": "markdown",
      "source": [
        "#ADAM"
      ],
      "metadata": {
        "id": "eLnztf-mdReM"
      }
    },
    {
      "cell_type": "code",
      "execution_count": null,
      "metadata": {
        "id": "58YRKAOTrXmr"
      },
      "outputs": [],
      "source": [
        "import numpy as np\n",
        "\n",
        "class ADAM:\n",
        "  def __init__(self, lr=0.001, b1=0.9, b2=0.999, epochs=1000, batch_size=32, tol=1e-3):\n",
        "    self.learning_rate=lr\n",
        "    self.epochs = epochs\n",
        "    self.batch_size = batch_size\n",
        "    self.tolerance = tol\n",
        "    self.beta1 = b1\n",
        "    self.beta2 = b2\n",
        "    self.m = 0\n",
        "    self.v = 0\n",
        "    self.weight = None\n",
        "    self.bias=None\n",
        "    self.m_w=None\n",
        "    self.v_w=None\n",
        "    self.m_b=None\n",
        "    self.v_b=None\n",
        "    #thêm np.random.seed() nếu muốn cố định\n",
        "    np.random.seed(3)\n",
        "    self.time_step=0\n",
        "\n",
        "  def predict(self, X):\n",
        "    return  np.dot(X, self.weight) + self.bias\n",
        "\n",
        "  def mean_square_error(self, y_true, y_pred):\n",
        "    return np.mean((y_true - y_pred)**2)\n",
        "\n",
        "  def gradient(self, X_batch, y_batch):\n",
        "    y_pred = self.predict(X_batch)\n",
        "    error = y_pred-y_batch\n",
        "    gradient_w= np.dot(X_batch.T, error)/X_batch.shape[0]\n",
        "    gradient_b = np.mean(error)\n",
        "    return gradient_w, gradient_b\n",
        "\n",
        "  def fit(self, X, y):\n",
        "    n_samples, n_features = X.shape\n",
        "    self.weight = np.random.randn(n_features)\n",
        "    print(self.weight)\n",
        "    self.bias = np.random.randn()\n",
        "    print(self.bias)\n",
        "\n",
        "    for epoch in range(self.epochs):\n",
        "      indicies = np.random.permutation(n_samples)\n",
        "\n",
        "      X_shuffled = X[indicies]\n",
        "\n",
        "      y_shuffled = y[indicies]\n",
        "\n",
        "      for i in range(0, n_samples, self.batch_size):\n",
        "        X_batch = X_shuffled[i:i+self.batch_size]\n",
        "        y_batch = y_shuffled[i:i+self.batch_size]\n",
        "        self.time_step+=1\n",
        "        gradient_w, gradient_b = self.gradient(X_batch, y_batch)\n",
        "        self.m = self.beta1*self.m + (1-self.beta1)*gradient_w\n",
        "        self.v = self.beta2*self.v + (1-self.beta2)*(gradient_w**2)\n",
        "\n",
        "        m_hat = self.m/(1-self.beta1**self.time_step)\n",
        "        v_hat = self.v/(1-self.beta2**self.time_step)\n",
        "        #m_hat = self.m\n",
        "        #v_hat = self.v\n",
        "        self.weight -= self.learning_rate*m_hat/(np.sqrt(v_hat+1e-8))\n",
        "        self.bias -= self.learning_rate * gradient_b\n",
        "\n",
        "      if epoch%100 == 0:\n",
        "        y_pred = self.predict(X)\n",
        "        loss = self.mean_square_error(y,y_pred)\n",
        "        print(f\"Epoch {epoch}: Loss = {loss}\")\n",
        "\n",
        "      if np.linalg.norm(gradient_w) < self.tolerance:\n",
        "\n",
        "        print(\"converged\")\n",
        "        print(self.weight)\n",
        "        break\n",
        "\n",
        "    return self.weight, self.bias\n"
      ]
    },
    {
      "cell_type": "code",
      "source": [
        "np.random.seed(3)"
      ],
      "metadata": {
        "id": "ccJRet2veLvl"
      },
      "execution_count": null,
      "outputs": []
    },
    {
      "cell_type": "code",
      "source": [
        "X =np.random.randn(100,5)\n",
        "# create corresponding target value by adding random\n",
        "# noise in the dataset\n",
        "y = np.dot(X,np.array([1,2,3,4,5]))+np.random.randn(100)*0.1\n",
        "# Create an instance of the SGD class\n",
        "np.random.seed(3)\n",
        "\n",
        "print('ADAM PERFORMANT')\n",
        "model = ADAM(lr=0.01, b1=0.9, b2=0.999,epochs=5000, batch_size=32, tol=1e-2)\n",
        "w,b=model.fit(X,y)\n",
        "print('SGD PERFORMANT')\n",
        "model = SGD(lr=0.01, epochs=5000, batch_size=32, tol=1e-2)\n",
        "w,b=model.fit(X,y)\n",
        "\n"
      ],
      "metadata": {
        "colab": {
          "base_uri": "https://localhost:8080/"
        },
        "id": "udyBellpdUTp",
        "outputId": "5378163a-11ee-4e74-fc2e-ea676e3ca39b"
      },
      "execution_count": null,
      "outputs": [
        {
          "output_type": "stream",
          "name": "stdout",
          "text": [
            "ADAM PERFORMANT\n",
            "[ 1.78862847  0.43650985  0.09649747 -1.8634927  -0.2773882 ]\n",
            "-0.35475897926898675\n",
            "Epoch 0: Loss = 80.32863617646456\n",
            "Epoch 100: Loss = 16.309212057666684\n",
            "Epoch 200: Loss = 1.925912969130793\n",
            "Epoch 300: Loss = 0.10876092630561474\n",
            "Epoch 400: Loss = 0.012852488902205734\n",
            "converged\n",
            "[1.00741796 1.99178412 2.9978946  3.98136412 4.97468129]\n",
            "SGD PERFORMANT\n",
            "[ 1.78862847  0.43650985  0.09649747 -1.8634927  -0.2773882 ]\n",
            "-0.35475897926898675\n",
            "Epoch 0: Loss = 71.42253816966208\n",
            "Epoch 100: Loss = 0.023549767058441633\n",
            "Epoch 200: Loss = 0.01083087946804925\n",
            "Epoch 300: Loss = 0.01084541643310467\n",
            "Epoch 400: Loss = 0.010826853213551863\n",
            "Epoch 500: Loss = 0.010827632298138365\n",
            "Epoch 600: Loss = 0.010841386054710783\n",
            "Epoch 700: Loss = 0.010828526672187975\n",
            "Epoch 800: Loss = 0.010842270103880985\n",
            "Epoch 900: Loss = 0.0108458679979409\n",
            "Epoch 1000: Loss = 0.01082551448488843\n",
            "Epoch 1100: Loss = 0.010829035330384089\n",
            "Epoch 1200: Loss = 0.010834932195952345\n",
            "Epoch 1300: Loss = 0.010822837322976326\n",
            "Epoch 1400: Loss = 0.010854684953352633\n",
            "Epoch 1500: Loss = 0.010831222944816048\n",
            "Epoch 1600: Loss = 0.010833732691777075\n",
            "Epoch 1700: Loss = 0.010830605652260638\n",
            "Epoch 1800: Loss = 0.010845222810974968\n",
            "Epoch 1900: Loss = 0.010846872299079928\n",
            "converged\n",
            "[1.0094239  1.9952161  3.00095183 3.99883767 4.98461497]\n"
          ]
        }
      ]
    },
    {
      "cell_type": "code",
      "source": [],
      "metadata": {
        "id": "JrRn-lZ0dhBJ"
      },
      "execution_count": null,
      "outputs": []
    }
  ]
}